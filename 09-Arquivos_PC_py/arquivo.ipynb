{
 "cells": [
  {
   "cell_type": "markdown",
   "metadata": {},
   "source": [
    "-    pathlib or os"
   ]
  },
  {
   "cell_type": "code",
   "execution_count": 12,
   "metadata": {},
   "outputs": [
    {
     "name": "stdout",
     "output_type": "stream",
     "text": [
      "c:\\Users\\walex\\OneDrive\\GitHub\\Plano_Estudos\\Python_Hashtag\\09-Arquivos_PC_py\n"
     ]
    }
   ],
   "source": [
    "from pathlib import Path\n",
    "\n",
    "print(Path.cwd())"
   ]
  },
  {
   "cell_type": "markdown",
   "metadata": {},
   "source": [
    "-   Navegando até uma pasta específica\n",
    "-   Listando todos os arquivos da Pasta Atual"
   ]
  },
  {
   "cell_type": "code",
   "execution_count": 16,
   "metadata": {},
   "outputs": [
    {
     "name": "stdout",
     "output_type": "stream",
     "text": [
      "Arquivos_Lojas\\201801_Amazonas Shopping_AM.csv\n"
     ]
    }
   ],
   "source": [
    "caminho = Path('Arquivos_Lojas')\n",
    "\n",
    "arquivos = caminho.iterdir()\n",
    "\n",
    "for arquivo in arquivos:\n",
    "    print(arquivo)\n",
    "    break"
   ]
  },
  {
   "cell_type": "markdown",
   "metadata": {},
   "source": [
    "- Criando uma pasta"
   ]
  },
  {
   "cell_type": "code",
   "execution_count": 18,
   "metadata": {},
   "outputs": [],
   "source": [
    "Path('Arquivos_Lojas/Nova pasta').mkdir()"
   ]
  },
  {
   "cell_type": "markdown",
   "metadata": {},
   "source": [
    "- Verificando se um Arquivo Existe"
   ]
  },
  {
   "cell_type": "code",
   "execution_count": 21,
   "metadata": {},
   "outputs": [
    {
     "data": {
      "text/plain": [
       "True"
      ]
     },
     "execution_count": 21,
     "metadata": {},
     "output_type": "execute_result"
    }
   ],
   "source": [
    "arquivo = Path('Arquivos_Lojas/201801_Amazonas Shopping_AM.csv')\n",
    "arquivo.exists()"
   ]
  },
  {
   "cell_type": "markdown",
   "metadata": {},
   "source": [
    "- Copiando um Arquivo"
   ]
  },
  {
   "cell_type": "code",
   "execution_count": 23,
   "metadata": {},
   "outputs": [
    {
     "data": {
      "text/plain": [
       "'Arquivos_Lojas/Nova pasta\\\\201801_Amazonas Shopping_AM.csv'"
      ]
     },
     "execution_count": 23,
     "metadata": {},
     "output_type": "execute_result"
    }
   ],
   "source": [
    "import shutil\n",
    "shutil.copy2('Arquivos_Lojas/201801_Amazonas Shopping_AM.csv', 'Arquivos_Lojas/Nova pasta')"
   ]
  },
  {
   "cell_type": "markdown",
   "metadata": {},
   "source": [
    "- Movendo um Arquivo"
   ]
  },
  {
   "cell_type": "code",
   "execution_count": 33,
   "metadata": {},
   "outputs": [
    {
     "data": {
      "text/plain": [
       "'Arquivos_Lojas\\\\Nova pasta\\\\201801_Barra Shopping_RJ.csv'"
      ]
     },
     "execution_count": 33,
     "metadata": {},
     "output_type": "execute_result"
    }
   ],
   "source": [
    "#### Criar uma pasta\n",
    "# Path('Arquivos_Lojas/201801_Amazonas Shopping_AM.csv').rename('Arquivos_Lojas/Nova pasta 2')\n",
    "\n",
    "shutil.move(Path('Arquivos_Lojas/201801_Barra Shopping_RJ.csv'), Path('Arquivos_Lojas/Nova pasta'))"
   ]
  }
 ],
 "metadata": {
  "kernelspec": {
   "display_name": "Python 3",
   "language": "python",
   "name": "python3"
  },
  "language_info": {
   "codemirror_mode": {
    "name": "ipython",
    "version": 3
   },
   "file_extension": ".py",
   "mimetype": "text/x-python",
   "name": "python",
   "nbconvert_exporter": "python",
   "pygments_lexer": "ipython3",
   "version": "3.12.2"
  }
 },
 "nbformat": 4,
 "nbformat_minor": 2
}
