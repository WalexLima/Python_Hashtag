{
 "cells": [
  {
   "cell_type": "markdown",
   "metadata": {},
   "source": [
    "### Métodos Específicos de Tuplas"
   ]
  },
  {
   "cell_type": "markdown",
   "metadata": {},
   "source": [
    "    count()\n",
    "    Retorna o número de vezes que um valor especificado aparece na tupla.\n",
    "    Sintaxe: tupla.count(valor)"
   ]
  },
  {
   "cell_type": "code",
   "execution_count": 14,
   "metadata": {},
   "outputs": [
    {
     "name": "stdout",
     "output_type": "stream",
     "text": [
      "O número \"mar\" foram achado => \"2\"\n"
     ]
    }
   ],
   "source": [
    "mes = ('jan', 'fev', 'mar', 'abr', 'mai', 'mar')\n",
    "quantidade_mes = mes.count('mar')\n",
    "print(f'O número \"mar\" foram achado => \"{quantidade_mes}\"')"
   ]
  },
  {
   "cell_type": "markdown",
   "metadata": {},
   "source": [
    "    index()\n",
    "    Descrição: Retorna o índice da primeira ocorrência do valor especificado. Gera um erro se o valor não for encontrado.\n",
    "    Sintaxe: tupla.index(valor)"
   ]
  },
  {
   "cell_type": "code",
   "execution_count": 13,
   "metadata": {},
   "outputs": [
    {
     "name": "stdout",
     "output_type": "stream",
     "text": [
      "A posição achada foi => \"2\"\n"
     ]
    }
   ],
   "source": [
    "mes = ('jan', 'fev', 'mar', 'abr', 'mai')\n",
    "mes_procurado = mes.index('mar')\n",
    "print(f'A posição achada foi => \"{mes_procurado}\"')\n"
   ]
  },
  {
   "cell_type": "markdown",
   "metadata": {},
   "source": [
    "    len()\n",
    "    Descrição: Retorna o número de elementos na tupla."
   ]
  },
  {
   "cell_type": "code",
   "execution_count": 17,
   "metadata": {},
   "outputs": [
    {
     "name": "stdout",
     "output_type": "stream",
     "text": [
      "A quantidade que existe na TUPLA => \"5\"\n"
     ]
    }
   ],
   "source": [
    "mes = ('jan', 'fev', 'mar', 'abr', 'mai')\n",
    "quantidade_mes = len(mes)\n",
    "print(f'A quantidade que existe na TUPLA => \"{quantidade_mes}\"')"
   ]
  },
  {
   "cell_type": "markdown",
   "metadata": {},
   "source": [
    "    sum()\n",
    "    Descrição: Retorna a soma dos elementos na tupla."
   ]
  },
  {
   "cell_type": "code",
   "execution_count": 19,
   "metadata": {},
   "outputs": [
    {
     "name": "stdout",
     "output_type": "stream",
     "text": [
      "6\n"
     ]
    }
   ],
   "source": [
    "numero = (1, 2, 3)\n",
    "total = sum(numero)\n",
    "\n",
    "print(total)"
   ]
  },
  {
   "cell_type": "markdown",
   "metadata": {},
   "source": [
    "    in\n",
    "    Descrição: Verifica se um valor está presente na tupla."
   ]
  },
  {
   "cell_type": "code",
   "execution_count": 20,
   "metadata": {},
   "outputs": [
    {
     "name": "stdout",
     "output_type": "stream",
     "text": [
      "True\n",
      "False\n"
     ]
    }
   ],
   "source": [
    "numero = (1, 2, 3)\n",
    "print(2 in numero)  # Saída: True\n",
    "print(4 in numero)  # Saída: False"
   ]
  },
  {
   "cell_type": "markdown",
   "metadata": {},
   "source": [
    "    Concatenation (+)\n",
    "    Descrição: Junta duas tuplas."
   ]
  },
  {
   "cell_type": "code",
   "execution_count": 21,
   "metadata": {},
   "outputs": [
    {
     "name": "stdout",
     "output_type": "stream",
     "text": [
      "(1, 2, 3, 4)\n"
     ]
    }
   ],
   "source": [
    "numero_1 = (1, 2)\n",
    "numero_2 = (3, 4)\n",
    "numero_3 = numero_1 + numero_2\n",
    "print(numero_3) "
   ]
  },
  {
   "cell_type": "markdown",
   "metadata": {},
   "source": [
    "    Slicing\n",
    "    Descrição: Obtém um subconjunto da tupla."
   ]
  },
  {
   "cell_type": "code",
   "execution_count": 22,
   "metadata": {},
   "outputs": [
    {
     "name": "stdout",
     "output_type": "stream",
     "text": [
      "(2, 3)\n"
     ]
    }
   ],
   "source": [
    "numero = (1, 2, 3, 4, 5)\n",
    "print(numero[1:3]) "
   ]
  },
  {
   "cell_type": "markdown",
   "metadata": {},
   "source": [
    "    Desempacotamento\n",
    "    Descrição: Atribui os elementos da tupla a variáveis."
   ]
  },
  {
   "cell_type": "code",
   "execution_count": 24,
   "metadata": {},
   "outputs": [
    {
     "name": "stdout",
     "output_type": "stream",
     "text": [
      "1 2 3\n"
     ]
    }
   ],
   "source": [
    "numero = (1, 2, 3)\n",
    "a, b, c = numero\n",
    "print(a, b, c)  "
   ]
  }
 ],
 "metadata": {
  "kernelspec": {
   "display_name": "Python 3",
   "language": "python",
   "name": "python3"
  },
  "language_info": {
   "codemirror_mode": {
    "name": "ipython",
    "version": 3
   },
   "file_extension": ".py",
   "mimetype": "text/x-python",
   "name": "python",
   "nbconvert_exporter": "python",
   "pygments_lexer": "ipython3",
   "version": "3.12.2"
  }
 },
 "nbformat": 4,
 "nbformat_minor": 2
}
