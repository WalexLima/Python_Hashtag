{
 "cells": [
  {
   "cell_type": "code",
   "execution_count": 1,
   "metadata": {},
   "outputs": [
    {
     "name": "stdout",
     "output_type": "stream",
     "text": [
      "[('Rubia', 1000), ('Marcus', 900), ('Alex', 800)]\n"
     ]
    }
   ],
   "source": [
    "vendedores = ['João', 'Julia', 'Bernado', 'Maria', 'Alan', 'Ana', 'Paulo', 'Alex' , 'Marcus', 'Rubia']\n",
    "valores = [100, 200, 300, 400, 500 ,600 ,700 , 800 , 900, 1000]\n",
    "vendedores_new = []\n",
    "vendedores_top3 = []\n",
    "\n",
    "for item in zip(vendedores, valores):\n",
    "    nome, valor = item\n",
    "    vendedores_new.append(item)\n",
    "\n",
    "top_03_sorted = sorted(vendedores_new, key=lambda x: x[1], reverse=True)\n",
    "print(top_03_sorted[:3])"
   ]
  }
 ],
 "metadata": {
  "kernelspec": {
   "display_name": "Python 3",
   "language": "python",
   "name": "python3"
  },
  "language_info": {
   "codemirror_mode": {
    "name": "ipython",
    "version": 3
   },
   "file_extension": ".py",
   "mimetype": "text/x-python",
   "name": "python",
   "nbconvert_exporter": "python",
   "pygments_lexer": "ipython3",
   "version": "3.12.2"
  }
 },
 "nbformat": 4,
 "nbformat_minor": 2
}
