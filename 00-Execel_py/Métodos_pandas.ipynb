{
 "cells": [
  {
   "cell_type": "markdown",
   "metadata": {},
   "source": [
    "#### PROCURAR VALORES DISTINTOS "
   ]
  },
  {
   "cell_type": "code",
   "execution_count": 3,
   "metadata": {},
   "outputs": [
    {
     "name": "stdout",
     "output_type": "stream",
     "text": [
      "{'rafael', 'diocel', 'walex'}\n"
     ]
    }
   ],
   "source": [
    "nomes = ['walex', 'rafael', 'diocel', 'walex']\n",
    "nomes_distintos = set(nomes)\n",
    "\n",
    "print(nomes_distintos)"
   ]
  },
  {
   "cell_type": "markdown",
   "metadata": {},
   "source": [
    "#### sort() ou sort(reverse = True)\n",
    "    Organizar um array de cima para baixo"
   ]
  },
  {
   "cell_type": "code",
   "execution_count": 4,
   "metadata": {},
   "outputs": [
    {
     "name": "stdout",
     "output_type": "stream",
     "text": [
      "Ordem basica: [90, 51, 50, 48, 46, 38, 16, 13, 5]\n"
     ]
    }
   ],
   "source": [
    "valores = [50, 16, 48, 13, 5, 51, 46, 90, 38]\n",
    "\n",
    "# valores.sort()\n",
    "valores.sort( reverse=True)\n",
    "\n",
    "print(f'Ordem basica: {valores}')\n"
   ]
  },
  {
   "cell_type": "markdown",
   "metadata": {},
   "source": [
    "#### Zip"
   ]
  },
  {
   "cell_type": "code",
   "execution_count": 6,
   "metadata": {},
   "outputs": [
    {
     "name": "stdout",
     "output_type": "stream",
     "text": [
      "(50, 50)\n",
      "(16, 16)\n",
      "(48, 48)\n",
      "(13, 13)\n",
      "(5, 5)\n",
      "(51, 51)\n",
      "(46, 46)\n",
      "(90, 0)\n",
      "(38, 38)\n"
     ]
    }
   ],
   "source": [
    "vendas = [50, 16, 48, 13, 5, 51, 46, 90, 38]\n",
    "vendas1 = [50, 16, 48, 13, 5, 51, 46, 0, 38]\n",
    "\n",
    "for ve in zip(vendas, vendas1):\n",
    "    print(ve)"
   ]
  }
 ],
 "metadata": {
  "kernelspec": {
   "display_name": "Python 3",
   "language": "python",
   "name": "python3"
  },
  "language_info": {
   "codemirror_mode": {
    "name": "ipython",
    "version": 3
   },
   "file_extension": ".py",
   "mimetype": "text/x-python",
   "name": "python",
   "nbconvert_exporter": "python",
   "pygments_lexer": "ipython3",
   "version": "3.12.2"
  }
 },
 "nbformat": 4,
 "nbformat_minor": 2
}
