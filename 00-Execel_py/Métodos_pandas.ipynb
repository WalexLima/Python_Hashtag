{
 "cells": [
  {
   "cell_type": "markdown",
   "metadata": {},
   "source": [
    "#### PROCURAR VALORES DISTINTOS "
   ]
  },
  {
   "cell_type": "code",
   "execution_count": 3,
   "metadata": {},
   "outputs": [
    {
     "name": "stdout",
     "output_type": "stream",
     "text": [
      "{'rafael', 'diocel', 'walex'}\n"
     ]
    }
   ],
   "source": [
    "nomes = ['walex', 'rafael', 'diocel', 'walex']\n",
    "nomes_distintos = set(nomes)\n",
    "\n",
    "print(nomes_distintos)"
   ]
  },
  {
   "cell_type": "markdown",
   "metadata": {},
   "source": [
    "#### sort() ou sort(reverse = True)\n",
    "    Organizar um array de cima para baixo"
   ]
  },
  {
   "cell_type": "code",
   "execution_count": 4,
   "metadata": {},
   "outputs": [
    {
     "name": "stdout",
     "output_type": "stream",
     "text": [
      "Ordem basica: [90, 51, 50, 48, 46, 38, 16, 13, 5]\n"
     ]
    }
   ],
   "source": [
    "valores = [50, 16, 48, 13, 5, 51, 46, 90, 38]\n",
    "\n",
    "# valores.sort()\n",
    "valores.sort( reverse=True)\n",
    "\n",
    "print(f'Ordem basica: {valores}')\n"
   ]
  },
  {
   "cell_type": "markdown",
   "metadata": {},
   "source": [
    "#### Zip"
   ]
  },
  {
   "cell_type": "code",
   "execution_count": 1,
   "metadata": {},
   "outputs": [
    {
     "name": "stdout",
     "output_type": "stream",
     "text": [
      "(50, 50), (16, 16), (48, 48), (13, 13), (5, 5), (51, 51), (46, 46), (90, 0), (38, 38), "
     ]
    }
   ],
   "source": [
    "vendas = [50, 16, 48, 13, 5, 51, 46, 90, 38]\n",
    "vendas1 = [50, 16, 48, 13, 5, 51, 46, 0, 38]\n",
    "\n",
    "for ve in zip(vendas, vendas1):\n",
    "    print(ve, end=\", \")"
   ]
  },
  {
   "cell_type": "markdown",
   "metadata": {},
   "source": [
    "#### Collections\n",
    "    Top 03 produtos"
   ]
  },
  {
   "cell_type": "code",
   "execution_count": 2,
   "metadata": {},
   "outputs": [
    {
     "name": "stdout",
     "output_type": "stream",
     "text": [
      "[('notebook dell', 17000), ('iphone', 15000), ('ps5', 14300)]\n"
     ]
    }
   ],
   "source": [
    "from collections import Counter\n",
    "vendas_tecnologia = {'notebook asus': 2450, 'iphone': 15000, 'samsung galaxy': 12000, 'tv samsung': 10000, 'ps5': 14300, 'tablet': 1720, 'notebook dell': 17000, 'ipad': 1000, 'tv philco': 2500, 'notebook hp': 1000}\n",
    "\n",
    "aux = Counter(vendas_tecnologia)\n",
    "print(aux.most_common(3))"
   ]
  },
  {
   "cell_type": "markdown",
   "metadata": {},
   "source": [
    "#### Métodos para criar números aleatórios e números sequenciais em listas"
   ]
  },
  {
   "cell_type": "code",
   "execution_count": null,
   "metadata": {},
   "outputs": [],
   "source": [
    "import numpy as np\n",
    "\n",
    "#Gerar números aleatórios\n",
    "vendas = np.random.randint(1000, 3000, 50)\n",
    "meses = np.arange(1, 51)"
   ]
  }
 ],
 "metadata": {
  "kernelspec": {
   "display_name": "Python 3",
   "language": "python",
   "name": "python3"
  },
  "language_info": {
   "codemirror_mode": {
    "name": "ipython",
    "version": 3
   },
   "file_extension": ".py",
   "mimetype": "text/x-python",
   "name": "python",
   "nbconvert_exporter": "python",
   "pygments_lexer": "ipython3",
   "version": "3.12.2"
  }
 },
 "nbformat": 4,
 "nbformat_minor": 2
}
