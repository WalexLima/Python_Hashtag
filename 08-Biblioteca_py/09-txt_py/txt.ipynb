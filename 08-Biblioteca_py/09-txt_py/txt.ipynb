{
 "cells": [
  {
   "cell_type": "markdown",
   "metadata": {},
   "source": [
    "#### Como abrir um arquivo txt == Bloco de nota\n",
    "    'r' Lê arquivo\n",
    "    'w' Escreve no arquivo"
   ]
  },
  {
   "cell_type": "code",
   "execution_count": null,
   "metadata": {},
   "outputs": [],
   "source": [
    "arquivo = open('Alunos.txt', 'r')\n",
    "linhas = arquivo.readlines() ## Ler as linhas\n",
    "del linhas[:4] \n",
    "\n",
    "qtde_anuncio = 0\n",
    "qtde_org = 0\n",
    "qtde_yt_org = 0\n",
    "qtde_igfb_org = 0\n",
    "qtde_site_org = 0\n",
    "\n",
    "for linha in linhas:\n",
    "    email, origem  = linha.split(',')\n",
    "    if '_org' in origem:\n",
    "        qtde_org += 1\n",
    "    if 'hashtag_yt_org' in origem:\n",
    "        qtde_yt_org += 1\n",
    "    if 'hashtag_site_org' in origem:\n",
    "        qtde_site_org += 1\n",
    "    if 'hashtag_ig_org' in origem or 'hashtag_igfb_org' in origem:\n",
    "        qtde_igfb_org += 1\n",
    "    else:\n",
    "        qtde_anuncio += 1\n",
    "\n",
    "arquivo.close() ## Fechar arquivo\n",
    "\n",
    "with open('Indicadores.txt', 'w') as arquivo_indicadores: ## Ele tanto fecha quanto abre\n",
    "    arquivo_indicadores.write(f'Quantidade Anuncio: {qtde_anuncio}\\n')\n",
    "    arquivo_indicadores.write(f'Quantidade Orgânico: {qtde_org}\\n')\n",
    "    arquivo_indicadores.write(f'Quantidade Youtube: {qtde_yt_org}\\n')\n",
    "    arquivo_indicadores.write(f'Quantidade Instagram: {qtde_igfb_org}\\n')\n",
    "    arquivo_indicadores.write(f'Quantidade Site: {qtde_site_org}\\n')\n",
    "print('Fim do Código')"
   ]
  }
 ],
 "metadata": {
  "kernelspec": {
   "display_name": "Python 3",
   "language": "python",
   "name": "python3"
  },
  "language_info": {
   "codemirror_mode": {
    "name": "ipython",
    "version": 3
   },
   "file_extension": ".py",
   "mimetype": "text/x-python",
   "name": "python",
   "nbconvert_exporter": "python",
   "pygments_lexer": "ipython3",
   "version": "3.12.2"
  }
 },
 "nbformat": 4,
 "nbformat_minor": 2
}
