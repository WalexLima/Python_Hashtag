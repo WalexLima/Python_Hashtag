{
 "cells": [
  {
   "cell_type": "markdown",
   "metadata": {},
   "source": [
    "#### datime.now()\n",
    "    Pega a Data e a Hora, Podendo fazer calculos com cada objeto."
   ]
  },
  {
   "cell_type": "code",
   "execution_count": 1,
   "metadata": {},
   "outputs": [
    {
     "name": "stdout",
     "output_type": "stream",
     "text": [
      "Agora: 2024-05-30 17:36:03.311991\n",
      "Agora: 2024-05-30\n",
      "Agora: 17:36:03.311991\n",
      "Anos: 2024 ; Meses: 5; Dias: 30; Horas: 17; Minutos: 36; Segundos: 3\n",
      "2024-05-30 17:46:03.311991\n"
     ]
    }
   ],
   "source": [
    "from datetime import datetime, timedelta\n",
    "from datetime import date\n",
    "\n",
    "agora = datetime.now()\n",
    "print(f'Agora: {agora}')\n",
    "\n",
    "print(f'Agora: {agora.date()}')\n",
    "print(f'Agora: {agora.time()}')\n",
    "\n",
    "print(f'Anos: {agora.year} ', end='; ')\n",
    "print(f'Meses: {agora.month}', end='; ')\n",
    "print(f'Dias: {agora.day}', end='; ')\n",
    "print(f'Horas: {agora.hour}', end='; ')\n",
    "print(f'Minutos: {agora.minute}', end='; ')\n",
    "print(f'Segundos: {agora.second}')\n",
    "\n",
    "future = agora + timedelta(hours=1)\n",
    "future = agora + timedelta(days=10)\n",
    "future = agora + timedelta(minutes=10)\n",
    "print(future)\n",
    "\n"
   ]
  },
  {
   "cell_type": "markdown",
   "metadata": {},
   "source": [
    "#### datime()\n",
    "    Podemos criar nossa própria data"
   ]
  },
  {
   "cell_type": "code",
   "execution_count": 5,
   "metadata": {},
   "outputs": [
    {
     "name": "stdout",
     "output_type": "stream",
     "text": [
      "Data: 2024-07-20 08:30:20\n",
      "Anos: 2024 ; Meses: 7; Dias: 20; Horas: 8; Minutos: 30; Segundos: 20\n",
      "2024-05-30 00:00:00\n"
     ]
    }
   ],
   "source": [
    "from datetime import datetime, timedelta\n",
    "from datetime import date\n",
    "\n",
    "data_hora = datetime(2024, 7, 20, 8, 30, 20)\n",
    "print(f'Data: {data_hora}')\n",
    "\n",
    "print(f'Anos: {data_hora.year} ', end='; ')\n",
    "print(f'Meses: {data_hora.month}', end='; ')\n",
    "print(f'Dias: {data_hora.day}', end='; ')\n",
    "print(f'Horas: {data_hora.hour}', end='; ')\n",
    "print(f'Minutos: {data_hora.minute}', end='; ')\n",
    "print(f'Segundos: {data_hora.second}')\n",
    "\n",
    "data = datetime(2024, 5, 30)\n",
    "print(data)\n"
   ]
  },
  {
   "cell_type": "markdown",
   "metadata": {},
   "source": [
    "#### datetime.fromisoformat(\"2024-0626 15:30:21\")"
   ]
  },
  {
   "cell_type": "code",
   "execution_count": 13,
   "metadata": {},
   "outputs": [
    {
     "name": "stdout",
     "output_type": "stream",
     "text": [
      "2024-06-26 00:00:00\n"
     ]
    }
   ],
   "source": [
    "data_iso = datetime.fromisoformat(\"2024-06-26\")\n",
    "print(data_iso)"
   ]
  },
  {
   "cell_type": "markdown",
   "metadata": {},
   "source": [
    "#### import locale, strftime()\n",
    "    Consertando a data"
   ]
  },
  {
   "cell_type": "code",
   "execution_count": 20,
   "metadata": {},
   "outputs": [
    {
     "name": "stdout",
     "output_type": "stream",
     "text": [
      "qui 30 maio 2024\n",
      "30-05-2024\n"
     ]
    }
   ],
   "source": [
    "import locale\n",
    "\n",
    "locale .setlocale(locale.LC_TIME, 'pt_BR.UTF-8')\n",
    "\n",
    "agora = datetime.now()\n",
    "\n",
    "print(agora.strftime(\"%a %d %B %Y\"))\n",
    "print(agora.strftime(\"%d-%m-%Y\"))"
   ]
  }
 ],
 "metadata": {
  "kernelspec": {
   "display_name": "Python 3",
   "language": "python",
   "name": "python3"
  },
  "language_info": {
   "codemirror_mode": {
    "name": "ipython",
    "version": 3
   },
   "file_extension": ".py",
   "mimetype": "text/x-python",
   "name": "python",
   "nbconvert_exporter": "python",
   "pygments_lexer": "ipython3",
   "version": "3.12.2"
  }
 },
 "nbformat": 4,
 "nbformat_minor": 2
}
