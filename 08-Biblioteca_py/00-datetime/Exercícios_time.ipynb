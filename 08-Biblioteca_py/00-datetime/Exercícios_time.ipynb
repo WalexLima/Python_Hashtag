{
 "cells": [
  {
   "cell_type": "markdown",
   "metadata": {},
   "source": [
    "## - Trabalhando com Data e Horas"
   ]
  },
  {
   "cell_type": "code",
   "execution_count": 7,
   "metadata": {},
   "outputs": [],
   "source": [
    "import time\n",
    "import datetime\n",
    "from datetime import datetime\n",
    "import locale #Permite traduzir para português data e hora"
   ]
  },
  {
   "cell_type": "markdown",
   "metadata": {},
   "source": [
    "#### time.sleep(seconds)\n",
    "\n",
    "    Descrição: Suspende a execução do programa pelo número de segundos especificado."
   ]
  },
  {
   "cell_type": "code",
   "execution_count": 6,
   "metadata": {},
   "outputs": [
    {
     "name": "stdout",
     "output_type": "stream",
     "text": [
      "1 2 3 4 5 6 7 8 9 10 "
     ]
    }
   ],
   "source": [
    "import time\n",
    "\n",
    "for num in range(1, 10+1):\n",
    "    time.sleep(1)\n",
    "    print(num, end=' ')\n"
   ]
  },
  {
   "cell_type": "markdown",
   "metadata": {},
   "source": [
    "#### datetime.datetime.now()\n",
    "    Descrição: Retorna a data e hora atuais."
   ]
  },
  {
   "cell_type": "code",
   "execution_count": 1,
   "metadata": {},
   "outputs": [
    {
     "name": "stdout",
     "output_type": "stream",
     "text": [
      "Data/hora atual em São Paulo: 2024-05-30 17:09:37.499684-03:00\n",
      "Data/hora atual em Nova York: 2024-05-30 16:09:37.499684-04:00\n",
      "Data/hora atual em Tóquio: 2024-05-31 05:09:37.499684+09:00\n",
      " \n",
      "O escritório de São Paulo está fechado.\n",
      "O escritório de Nova York está aberto.\n",
      "O escritório de Tóquio está fechado.\n"
     ]
    }
   ],
   "source": [
    "from datetime import datetime\n",
    "from zoneinfo import ZoneInfo\n",
    "\n",
    "def verifica_horario(data_hora):\n",
    "    if 9 <= data_hora.hour < 17:\n",
    "        return \"aberto\"\n",
    "    else:\n",
    "        return \"fechado\"\n",
    "\n",
    "data_hora_atual = datetime.now()\n",
    "\n",
    "fuso_horario_sao_paulo = ZoneInfo('America/Sao_Paulo')\n",
    "data_hora_sao_paulo = data_hora_atual.astimezone(fuso_horario_sao_paulo)\n",
    "\n",
    "fuso_horario_ny = ZoneInfo('America/New_York')\n",
    "data_hora_ny = data_hora_atual.astimezone(fuso_horario_ny)\n",
    "\n",
    "fuso_horario_tokyo = ZoneInfo('Asia/Tokyo')\n",
    "data_hora_tokyo = data_hora_atual.astimezone(fuso_horario_tokyo)\n",
    "\n",
    "print(f\"Data/hora atual em São Paulo: {data_hora_sao_paulo}\")\n",
    "print(f\"Data/hora atual em Nova York: {data_hora_ny}\")\n",
    "print(f\"Data/hora atual em Tóquio: {data_hora_tokyo}\")\n",
    "print(' ')\n",
    "print(f\"O escritório de São Paulo está {verifica_horario(data_hora_sao_paulo)}.\")\n",
    "print(f\"O escritório de Nova York está {verifica_horario(data_hora_ny)}.\")\n",
    "print(f\"O escritório de Tóquio está {verifica_horario(data_hora_tokyo)}.\")"
   ]
  },
  {
   "cell_type": "markdown",
   "metadata": {},
   "source": [
    "#### localtime()\n",
    "    Transforma segundos em strings"
   ]
  },
  {
   "cell_type": "code",
   "execution_count": 48,
   "metadata": {},
   "outputs": [
    {
     "name": "stdout",
     "output_type": "stream",
     "text": [
      "30 maio 2024\n",
      "2024/5/30 - 12:25:26 - Dias: 151\n",
      "Faltam 4 meses!\n"
     ]
    }
   ],
   "source": [
    "import time\n",
    "import locale\n",
    "\n",
    "locale.setlocale(locale.LC_TIME, 'pt-BR.UTF-8')\n",
    "\n",
    "## Transforma segundos em strings\n",
    "now = time.localtime()\n",
    "\n",
    "agora = time.strftime('%d %B %Y', now)\n",
    "print(agora)\n",
    "\n",
    "print(now.tm_year, end=\"/\")\n",
    "print(now.tm_mon, end=\"/\")\n",
    "print(now.tm_mday, end=\" - \")\n",
    "print(now.tm_hour, end=\":\")\n",
    "print(now.tm_min, end=\":\")\n",
    "print(now.tm_sec, end=\" - Dias: \")\n",
    "print(now.tm_yday)\n",
    "\n",
    "mes =  9 - now.tm_mon\n",
    "print(f'Faltam {mes} meses!')"
   ]
  },
  {
   "cell_type": "markdown",
   "metadata": {},
   "source": [
    "#### localtime()\n",
    "    Calcular uma data para outra"
   ]
  },
  {
   "cell_type": "code",
   "execution_count": 96,
   "metadata": {},
   "outputs": [
    {
     "name": "stdout",
     "output_type": "stream",
     "text": [
      "time.struct_time(tm_year=2024, tm_mon=5, tm_mday=30, tm_hour=13, tm_min=4, tm_sec=57, tm_wday=3, tm_yday=151, tm_isdst=0)\n",
      "A data de hoje é 30/5/2024 e Faltam 214 para o ano novo\n"
     ]
    }
   ],
   "source": [
    "now = time.localtime()\n",
    "print(now)\n",
    "ano_novo = time.mktime((2024, 1, 1, 0, 0, 0, 0, 0, 0))\n",
    "ano_novo_localtime = time.localtime(ano_novo)\n",
    "\n",
    "print(f'A data de hoje é {now.tm_mday}/{now.tm_mon}/{now.tm_year} e Faltam {365 - now.tm_yday} para o ano novo')\n"
   ]
  },
  {
   "cell_type": "code",
   "execution_count": 3,
   "metadata": {},
   "outputs": [
    {
     "name": "stdout",
     "output_type": "stream",
     "text": [
      "Parabéns, você ganhou um desconto!\n"
     ]
    }
   ],
   "source": [
    "from datetime import datetime\n",
    "\n",
    "ultima_compra = datetime(2023, 5, 10)\n",
    "data_hora_atual = datetime.now()\n",
    "\n",
    "diferenca = data_hora_atual - ultima_compra\n",
    "\n",
    "if diferenca.days > 30:\n",
    "    print(\"Parabéns, você ganhou um desconto!\")"
   ]
  },
  {
   "cell_type": "markdown",
   "metadata": {},
   "source": [
    "#### Calcular a diferença entre duas datas"
   ]
  },
  {
   "cell_type": "code",
   "execution_count": 10,
   "metadata": {},
   "outputs": [
    {
     "name": "stdout",
     "output_type": "stream",
     "text": [
      "1 day, 0:00:00\n",
      "1\n"
     ]
    }
   ],
   "source": [
    "data1 = datetime(24, 5, 29)\n",
    "data2 = datetime(24, 5, 30)\n",
    "\n",
    "diferenca = data2 - data1\n",
    "print(diferenca)\n",
    "print(diferenca.days)"
   ]
  },
  {
   "cell_type": "markdown",
   "metadata": {},
   "source": []
  },
  {
   "cell_type": "code",
   "execution_count": 21,
   "metadata": {},
   "outputs": [
    {
     "name": "stdout",
     "output_type": "stream",
     "text": [
      "30; 29; 28; 27; 26; 2024-05-26; "
     ]
    }
   ],
   "source": [
    "datas = [\n",
    "    datetime(2024, 5, 30),\n",
    "    datetime(2024, 5, 29),\n",
    "    datetime(2024, 5, 28),\n",
    "    datetime(2024, 5, 27),\n",
    "    datetime(2024, 5, 26),\n",
    "]\n",
    "\n",
    "for i in datas:\n",
    "    print(i.day, end=\"; \")\n",
    "print(i.date(), end=\"; \")"
   ]
  }
 ],
 "metadata": {
  "kernelspec": {
   "display_name": "Python 3",
   "language": "python",
   "name": "python3"
  },
  "language_info": {
   "codemirror_mode": {
    "name": "ipython",
    "version": 3
   },
   "file_extension": ".py",
   "mimetype": "text/x-python",
   "name": "python",
   "nbconvert_exporter": "python",
   "pygments_lexer": "ipython3",
   "version": "3.12.2"
  }
 },
 "nbformat": 4,
 "nbformat_minor": 2
}
