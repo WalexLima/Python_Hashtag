{
 "cells": [
  {
   "cell_type": "markdown",
   "metadata": {},
   "source": [
    "##### index() -   Como descobrir o índice de um item de uma lista\n"
   ]
  },
  {
   "cell_type": "code",
   "execution_count": 44,
   "metadata": {},
   "outputs": [
    {
     "name": "stdout",
     "output_type": "stream",
     "text": [
      "O produto forno possui o estoque de 80\n"
     ]
    }
   ],
   "source": [
    "produtos = ['tv', 'celular', 'tablet', 'mouse', 'teclado', 'geladeira', 'forno']\n",
    "estoque = [100, 150, 100, 120, 70, 180, 80]\n",
    "\n",
    "procurar = 'forno'\n",
    "\n",
    "try:\n",
    "    #index procura através do nome na lista e te entrega a posição\n",
    "    i = produtos.index(procurar)\n",
    "    print(f'O produto {produtos[i]} possui o estoque de {estoque[i]}')\n",
    "except:\n",
    "    pass"
   ]
  },
  {
   "cell_type": "markdown",
   "metadata": {},
   "source": [
    "#### append() - Como adicinar o item no final da lista"
   ]
  },
  {
   "cell_type": "code",
   "execution_count": 22,
   "metadata": {},
   "outputs": [
    {
     "name": "stdout",
     "output_type": "stream",
     "text": [
      "['tv', 'celular', 'tablet', 'mouse', 'teclado', 'geladeira', 'forno', 'iphone']\n"
     ]
    }
   ],
   "source": [
    "produtos = ['tv', 'celular', 'tablet', 'mouse', 'teclado', 'geladeira', 'forno']\n",
    "produtos.append('iphone')\n",
    "\n",
    "print(produtos)"
   ]
  },
  {
   "cell_type": "markdown",
   "metadata": {},
   "source": [
    "#### pop() - Exclui pela posição e armazena o item que foi excluido"
   ]
  },
  {
   "cell_type": "code",
   "execution_count": 34,
   "metadata": {},
   "outputs": [
    {
     "name": "stdout",
     "output_type": "stream",
     "text": [
      "['tv', 'tablet', 'teclado', 'geladeira', 'forno']\n",
      "mouse\n",
      "celular\n",
      "('celular', 'mouse')\n"
     ]
    }
   ],
   "source": [
    "produtos = ['tv', 'celular', 'tablet', 'mouse', 'teclado', 'geladeira', 'forno']\n",
    "\n",
    "#Excluir o celular que está na posição \"1\"\n",
    "produto_excluido = produtos.pop(1)\n",
    "produto_excluido2 = produtos.pop(2)\n",
    "total_itens_excluidos = produto_excluido, produto_excluido2\n",
    "\n",
    "\n",
    "print(produtos)\n",
    "print(produto_excluido2)\n",
    "print(produto_excluido)\n",
    "print(total_itens_excluidos)"
   ]
  },
  {
   "cell_type": "markdown",
   "metadata": {},
   "source": [
    "#### remove() - diferente do pop ele não armazena os itens excluidos, porém é extremamente eficiente "
   ]
  },
  {
   "cell_type": "code",
   "execution_count": 41,
   "metadata": {},
   "outputs": [
    {
     "name": "stdout",
     "output_type": "stream",
     "text": [
      "['tv', 'celular', 'tablet', 'mouse', 'teclado', 'geladeira', 'forno']\n",
      "Não existe esse tipo de produto na lista\n"
     ]
    }
   ],
   "source": [
    "produtos = ['tv', 'celular', 'tablet', 'mouse', 'teclado', 'geladeira', 'forno']\n",
    "\n",
    "prod = 'celuwwlar'\n",
    "\n",
    "if prod in produtos:\n",
    "    produto_excluido = produtos.remove(prod)\n",
    "    print(produtos)\n",
    "else:\n",
    "    print(produtos)\n",
    "    print('Não existe esse tipo de produto na lista')"
   ]
  },
  {
   "cell_type": "markdown",
   "metadata": {},
   "source": [
    "#### max()"
   ]
  },
  {
   "cell_type": "code",
   "execution_count": 54,
   "metadata": {},
   "outputs": [
    {
     "name": "stdout",
     "output_type": "stream",
     "text": [
      "O produto mais vendido: geladeira com a quantidade de 180\n"
     ]
    }
   ],
   "source": [
    "produtos = ['tv', 'celular', 'tablet', 'mouse', 'teclado', 'geladeira', 'forno']\n",
    "estoque = [100, 150, 100, 120, 70, 180, 80]\n",
    "\n",
    "#maior quantidade:\n",
    "maior_qtd = estoque.index(max(estoque))\n",
    "print(f'O produto de maior estoque: {produtos[maior_qtd]} com a quantidade de {estoque[maior_qtd]}')"
   ]
  },
  {
   "cell_type": "markdown",
   "metadata": {},
   "source": [
    "#### min()"
   ]
  },
  {
   "cell_type": "code",
   "execution_count": 55,
   "metadata": {},
   "outputs": [
    {
     "name": "stdout",
     "output_type": "stream",
     "text": [
      "O produto de menor estoque: teclado com a quantidade de 70\n"
     ]
    }
   ],
   "source": [
    "produtos = ['tv', 'celular', 'tablet', 'mouse', 'teclado', 'geladeira', 'forno']\n",
    "estoque = [100, 150, 100, 120, 70, 180, 80]\n",
    "\n",
    "#maior quantidade:\n",
    "maior_qtd = estoque.index(min(estoque))\n",
    "print(f'O produto de menor estoque: {produtos[maior_qtd]} com a quantidade de {estoque[maior_qtd]}')"
   ]
  }
 ],
 "metadata": {
  "kernelspec": {
   "display_name": "Python 3",
   "language": "python",
   "name": "python3"
  },
  "language_info": {
   "codemirror_mode": {
    "name": "ipython",
    "version": 3
   },
   "file_extension": ".py",
   "mimetype": "text/x-python",
   "name": "python",
   "nbconvert_exporter": "python",
   "pygments_lexer": "ipython3",
   "version": "3.12.2"
  }
 },
 "nbformat": 4,
 "nbformat_minor": 2
}
