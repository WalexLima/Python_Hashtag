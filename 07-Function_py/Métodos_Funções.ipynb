{
 "cells": [
  {
   "cell_type": "markdown",
   "metadata": {},
   "source": [
    "### Métodos Funções"
   ]
  },
  {
   "cell_type": "markdown",
   "metadata": {},
   "source": [
    "    Simples"
   ]
  },
  {
   "cell_type": "code",
   "execution_count": 1,
   "metadata": {},
   "outputs": [
    {
     "name": "stdout",
     "output_type": "stream",
     "text": [
      "Olá, Alice!\n"
     ]
    }
   ],
   "source": [
    "def cumprimentar(nome):\n",
    "    print(f\"Olá, {nome}!\")\n",
    "\n",
    "cumprimentar(\"Alice\")  # Saída: Olá, Alice!\n"
   ]
  },
  {
   "cell_type": "markdown",
   "metadata": {},
   "source": [
    "    Retorno de Valor:"
   ]
  },
  {
   "cell_type": "code",
   "execution_count": null,
   "metadata": {},
   "outputs": [],
   "source": [
    "def adicionar(a, b):\n",
    "    return a + b\n",
    "\n",
    "resultado = adicionar(3, 5)  # resultado é 8\n"
   ]
  },
  {
   "cell_type": "markdown",
   "metadata": {},
   "source": []
  },
  {
   "cell_type": "code",
   "execution_count": 3,
   "metadata": {},
   "outputs": [
    {
     "name": "stdout",
     "output_type": "stream",
     "text": [
      "Chaves: primeiro\n",
      "Valores:\n",
      "a: 1\n",
      "b: 2\n",
      "c: 3\n"
     ]
    }
   ],
   "source": [
    "def exemplo(chaves, **valor):\n",
    "    print(\"Chaves:\", chaves)\n",
    "    print(\"Valores:\")\n",
    "    for chave, valor in valor.items():\n",
    "        print(f\"{chave}: {valor}\")\n",
    "\n",
    "# Chamando a função exemplo com um argumento obrigatório e argumentos de palavra-chave\n",
    "exemplo(\"primeiro\", a=1, b=2, c=3)\n"
   ]
  },
  {
   "cell_type": "markdown",
   "metadata": {},
   "source": []
  },
  {
   "cell_type": "code",
   "execution_count": 4,
   "metadata": {},
   "outputs": [
    {
     "name": "stdout",
     "output_type": "stream",
     "text": [
      "Valores:\n",
      "a: 1\n",
      "b: 2\n",
      "c: 3\n"
     ]
    }
   ],
   "source": [
    "def exemplo(**valor):\n",
    "    print(\"Valores:\")\n",
    "    for chave, valor in valor.items():\n",
    "        print(f\"{chave}: {valor}\")\n",
    "\n",
    "# Chamando a função exemplo com argumentos de palavra-chave\n",
    "exemplo(a=1, b=2, c=3)\n"
   ]
  }
 ],
 "metadata": {
  "kernelspec": {
   "display_name": "Python 3",
   "language": "python",
   "name": "python3"
  },
  "language_info": {
   "codemirror_mode": {
    "name": "ipython",
    "version": 3
   },
   "file_extension": ".py",
   "mimetype": "text/x-python",
   "name": "python",
   "nbconvert_exporter": "python",
   "pygments_lexer": "ipython3",
   "version": "3.12.2"
  }
 },
 "nbformat": 4,
 "nbformat_minor": 2
}
