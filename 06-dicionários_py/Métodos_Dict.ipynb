{
 "cells": [
  {
   "cell_type": "markdown",
   "metadata": {},
   "source": [
    "### Métodos Específicos de Dicionário"
   ]
  },
  {
   "cell_type": "markdown",
   "metadata": {},
   "source": [
    "    items() -> Retorna uma lista em que cada item é uma tupla com (chave, valor)"
   ]
  },
  {
   "cell_type": "code",
   "execution_count": 125,
   "metadata": {},
   "outputs": [
    {
     "name": "stdout",
     "output_type": "stream",
     "text": [
      "Transformando o dicionário para tuplas dentro de lista => [('jan', 150), ('fev', 100), ('mar', 190)]\n",
      "vendas do 2°trimestre do maior valor para o menor      => {'mai': 600, 'jun': 500, 'abr': 400}\n",
      "\"Desta forma consigo obter tanto a chave, quanto os valores\"\n"
     ]
    }
   ],
   "source": [
    "vendas_mes = {'jan': 150, 'fev': 100, 'mar': 190}\n",
    "vendas_2tri = {'abr': 400, 'mai': 600, 'jun': 500}\n",
    "\n",
    "## Forma 1° => Transformar um dicionário em um lista(É muito bom trabalhar muitas vezes com list).\n",
    "vendas_mes = list(vendas_mes.items())\n",
    "print(f'Transformando o dicionário para tuplas dentro de lista => {vendas_mes}')\n",
    "\n",
    "## Forma 2° => Transformar o dicionário em um rank de maior para menor(Caso queira transformar em list é só trocar dict ou deixa sem nada).\n",
    "vendas_2tri = dict(sorted(vendas_2tri.items(), key=lambda item: item[1], reverse = True))\n",
    "print(f'vendas do 2°trimestre do maior valor para o menor      => {vendas_2tri}')\n",
    "\n",
    "\n",
    "dicionario = {\n",
    "    'nota': [558147, 712350, 573823, 405252], \n",
    "    'produtos': ['iphone', 'galaxy', 'ipad', 'tv'],\n",
    "    'quantidade': [15, 20, 82, 50]\n",
    "}\n",
    "\n",
    "## Forma 3° Usando For para ter as chaves e valor do dicionário.\n",
    "for chaves, itens in dicionario.items():\n",
    "    print('\"Desta forma consigo obter tanto a chave, quanto os valores\"')\n",
    "    break\n"
   ]
  },
  {
   "cell_type": "markdown",
   "metadata": {},
   "source": [
    "    keys() -> Retorna uma (chave)"
   ]
  },
  {
   "cell_type": "code",
   "execution_count": 132,
   "metadata": {},
   "outputs": [
    {
     "name": "stdout",
     "output_type": "stream",
     "text": [
      "Transformando as chaves do dicionário para dentro de lista => ['jan', 'fev', 'mar']\n"
     ]
    }
   ],
   "source": [
    "vendas_mes = {'jan': 150, 'fev': 100, 'mar': 190}\n",
    "vendas_2tri = {'abr': 400, 'mai': 600, 'jun': 500}\n",
    "\n",
    "## Forma 1° => Transformar as chaves do dicionário para dentro de lista(É muito bom trabalhar muitas vezes com list).\n",
    "vendas_mes = list(vendas_mes.keys())\n",
    "print(f'Transformando as chaves do dicionário para dentro de lista => {vendas_mes}')\n"
   ]
  },
  {
   "cell_type": "markdown",
   "metadata": {},
   "source": [
    "    values() -> Retorna os (Valores)"
   ]
  },
  {
   "cell_type": "code",
   "execution_count": 133,
   "metadata": {},
   "outputs": [
    {
     "name": "stdout",
     "output_type": "stream",
     "text": [
      "Transformando os valores do dicionário para dentro de lista => [150, 100, 190]\n"
     ]
    }
   ],
   "source": [
    "vendas_mes = {'jan': 150, 'fev': 100, 'mar': 190}\n",
    "vendas_2tri = {'abr': 400, 'mai': 600, 'jun': 500}\n",
    "\n",
    "## Forma 1° => Transformar os valores do dicionário para dentro de lista(É muito bom trabalhar muitas vezes com list).\n",
    "vendas_mes = list(vendas_mes.values())\n",
    "print(f'Transformando os valores do dicionário para dentro de lista => {vendas_mes}')"
   ]
  },
  {
   "cell_type": "markdown",
   "metadata": {},
   "source": [
    "    clear() -> Deleta todos os elementos do Dicionário (semelhante ao que aprendemos em listas)"
   ]
  },
  {
   "cell_type": "code",
   "execution_count": 12,
   "metadata": {},
   "outputs": [
    {
     "name": "stdout",
     "output_type": "stream",
     "text": [
      "Antes do clear() => {'jan': 150, 'fev': 100, 'mar': 190}\n",
      "Pós clear()      => {}\n"
     ]
    }
   ],
   "source": [
    "vendas_mes = {'jan': 150, 'fev': 100, 'mar': 190}\n",
    "vendas_2tri = {'abr': 400, 'mai': 600, 'jun': 500}\n",
    "\n",
    "print(f'Antes do clear() => {vendas_mes}')\n",
    "vendas_mes.clear()\n",
    "print(f'Pós clear()      => {vendas_mes}')"
   ]
  },
  {
   "cell_type": "markdown",
   "metadata": {},
   "source": [
    "    copy() -> Cria uma cópia do dicionário (semelhante ao que aprendemos em listas)"
   ]
  },
  {
   "cell_type": "code",
   "execution_count": 9,
   "metadata": {},
   "outputs": [
    {
     "name": "stdout",
     "output_type": "stream",
     "text": [
      "Dicionário principal => {'jan': 150, 'fev': 100, 'mar': 190}\n",
      "Copia do Dicionário  => {'jan': 500, 'fev': 100, 'mar': 190}\n"
     ]
    }
   ],
   "source": [
    "vendas_mes = {'jan': 150, 'fev': 100, 'mar': 190}\n",
    "vendas_copy = vendas_mes.copy()\n",
    "vendas_copy['jan'] = 500\n",
    "\n",
    "print(f'Dicionário principal => {vendas_mes}')\n",
    "print(f'Copia do Dicionário  => {vendas_copy}')"
   ]
  },
  {
   "cell_type": "markdown",
   "metadata": {},
   "source": [
    "    get(chave) -> Retorna o valor especificado pela chave (Semelhante a fazer dictionario[chave]\n"
   ]
  },
  {
   "cell_type": "code",
   "execution_count": 135,
   "metadata": {},
   "outputs": [
    {
     "name": "stdout",
     "output_type": "stream",
     "text": [
      "O método GET obtem o valor da \"CHAVE\" => 150\n"
     ]
    }
   ],
   "source": [
    "vendas_mes = {'jan': 150, 'fev': 100, 'mar': 190}\n",
    "vendas_2tri = {'abr': 400, 'mai': 600, 'jun': 500}\n",
    "\n",
    "janeiro = vendas_mes.get('jan')\n",
    "print(f'O método GET obtem o valor da \"CHAVE\" => {janeiro}')"
   ]
  },
  {
   "cell_type": "markdown",
   "metadata": {},
   "source": [
    "    del\n",
    "    Descrição: Remove uma chave (e seu valor) do dicionário."
   ]
  },
  {
   "cell_type": "code",
   "execution_count": 23,
   "metadata": {},
   "outputs": [
    {
     "name": "stdout",
     "output_type": "stream",
     "text": [
      "{'fev': 100, 'mar': 190}\n"
     ]
    }
   ],
   "source": [
    "vendas_mes = {'jan': 150, 'fev': 100, 'mar': 190}\n",
    "del vendas_mes['jan']\n",
    "print(vendas_mes)"
   ]
  },
  {
   "cell_type": "markdown",
   "metadata": {},
   "source": [
    "    pop(chave) -> Retira o item do dicionário e retorna o valor dele para ser usado"
   ]
  },
  {
   "cell_type": "code",
   "execution_count": 144,
   "metadata": {},
   "outputs": [
    {
     "name": "stdout",
     "output_type": "stream",
     "text": [
      "Dicionário de origem     => {'jan': 150, 'fev': 100, 'mar': 190}\n",
      "Itens excluidos          => {'fev': 100, 'mar': 190}\n",
      "Item excluido armazenado => 150\n"
     ]
    }
   ],
   "source": [
    "vendas_mes = {'jan': 150, 'fev': 100, 'mar': 190}\n",
    "vendas_2tri = {'abr': 400, 'mai': 600, 'jun': 500}\n",
    "\n",
    "print(f'Dicionário de origem     => {vendas_mes}')\n",
    "\n",
    "vendas_excluido = vendas_mes.pop('jan')\n",
    "\n",
    "print(f'Itens excluidos          => {vendas_mes}')\n",
    "print(f'Item excluido armazenado => {vendas_excluido}')"
   ]
  },
  {
   "cell_type": "markdown",
   "metadata": {},
   "source": [
    "    popitem() -> Retira o último item adicionado ao dicionário"
   ]
  },
  {
   "cell_type": "code",
   "execution_count": 160,
   "metadata": {},
   "outputs": [
    {
     "name": "stdout",
     "output_type": "stream",
     "text": [
      "Dicionário de origem     => {'jan': 150, 'fev': 100, 'mar': 190}\n",
      "Itens excluidos          => {'jan': 150, 'fev': 100}\n",
      "Item excluido armazenado => ('mar', 190)\n"
     ]
    }
   ],
   "source": [
    "vendas_mes = {'jan': 150, 'fev': 100, 'mar': 190}\n",
    "vendas_2tri = {'abr': 400, 'mai': 600, 'jun': 500}\n",
    "\n",
    "print(f'Dicionário de origem     => {vendas_mes}')\n",
    "\n",
    "vendas_excluido = vendas_mes.popitem()\n",
    "\n",
    "print(f'Itens excluidos          => {vendas_mes}')\n",
    "print(f'Item excluido armazenado => {vendas_excluido}')"
   ]
  },
  {
   "cell_type": "markdown",
   "metadata": {},
   "source": [
    "    setdefault(chave, valor) -> Retorna o valor em um dicionário, caso tenha a chave, ele retorna o valor da chave e não modificar a mesma."
   ]
  },
  {
   "cell_type": "code",
   "execution_count": 161,
   "metadata": {},
   "outputs": [
    {
     "name": "stdout",
     "output_type": "stream",
     "text": [
      "Dicionário original    => {'jan': 150, 'fev': 100, 'mar': 190}\n",
      "Valor existente em fev => 100\n",
      "Valor não existente. Então ele é acrescentado no final como uma nova chave => 600\n",
      "Valor do dicionário    => {'jan': 150, 'fev': 100, 'mar': 190, 'abr': 600}\n"
     ]
    }
   ],
   "source": [
    "## Esse método serve para adicionar um valor em um dicionário, caso tenha a chave, ele retorna o valor da chave e não modificar a mesma.\n",
    "vendas_mes = {'jan': 150, 'fev': 100, 'mar': 190}\n",
    "vendas_2tri = {'abr': 400, 'mai': 600, 'jun': 500}\n",
    "\n",
    "print(f'Dicionário original    => {vendas_mes}')\n",
    "vendas_fev = vendas_mes.setdefault('fev', 500)\n",
    "vendas_abr = vendas_mes.setdefault('abr', 600)\n",
    "\n",
    "print(f'Valor existente em fev => {vendas_fev}')\n",
    "print(f'Valor não existente. Então ele é acrescentado no final como uma nova chave => {vendas_abr}')\n",
    "print(f'Valor do dicionário    => {vendas_mes}')"
   ]
  },
  {
   "cell_type": "markdown",
   "metadata": {},
   "source": [
    "    update(dicionario) -> Unificar dois Dicionários"
   ]
  },
  {
   "cell_type": "code",
   "execution_count": 171,
   "metadata": {},
   "outputs": [
    {
     "name": "stdout",
     "output_type": "stream",
     "text": [
      "{'jan': 150, 'fev': 100, 'mar': 190, 'abr': 400, 'mai': 600, 'jun': 500}\n"
     ]
    }
   ],
   "source": [
    "vendas_mes = {'jan': 150, 'fev': 100, 'mar': 190}\n",
    "vendas_2tri = {'abr': 400, 'mai': 600, 'jun': 500}\n",
    "\n",
    "vendas_mes.update(vendas_2tri)\n",
    "print(vendas_mes)"
   ]
  },
  {
   "cell_type": "markdown",
   "metadata": {},
   "source": [
    "    fromkeys(chaves, valor_padrao) -> Cria um dicionário com as chaves e o mesmo valor padrão para todas as chaves"
   ]
  },
  {
   "cell_type": "code",
   "execution_count": 169,
   "metadata": {},
   "outputs": [
    {
     "name": "stdout",
     "output_type": "stream",
     "text": [
      "{'jan': 100, 'fev': 100, 'mar': 100}\n"
     ]
    }
   ],
   "source": [
    "chaves = ('jan', 'fev', 'mar')\n",
    "vendas = 100\n",
    "\n",
    "## Transformar tuplas ou listas em dicionários or () []\n",
    "vendas_mes = dict.fromkeys(chaves, vendas)\n",
    "print(vendas_mes)\n"
   ]
  },
  {
   "cell_type": "markdown",
   "metadata": {},
   "source": [
    "    in\n",
    "    Descrição: Verifica se uma chave está presente no dicionário."
   ]
  },
  {
   "cell_type": "code",
   "execution_count": 25,
   "metadata": {},
   "outputs": [
    {
     "name": "stdout",
     "output_type": "stream",
     "text": [
      "True\n",
      "False\n"
     ]
    }
   ],
   "source": [
    "vendas_mes = {'jan': 150, 'fev': 100, 'mar': 190}\n",
    "print('jan' in vendas_mes)\n",
    "print('abr' in vendas_mes)"
   ]
  },
  {
   "cell_type": "markdown",
   "metadata": {},
   "source": [
    "    Zip() ## \"NÃO USAR EM DICIONÁRIO\"\n",
    "    Em Python não garantem a ordem dos elementos, o que pode levar a resultados imprevisíveis quando você usa zip \n"
   ]
  },
  {
   "cell_type": "code",
   "execution_count": 6,
   "metadata": {},
   "outputs": [
    {
     "name": "stdout",
     "output_type": "stream",
     "text": [
      "Mês  => jan / valor => 150\n",
      "Mês  => fev / valor => 250\n",
      "valor => (558147, 'iphone', 50)\n",
      "mes = jan valor = 250\n",
      "mes = fev valor = 500\n",
      "mes = mar valor = 255\n"
     ]
    }
   ],
   "source": [
    "## Observação: caso dois dicionarios usando o zip. O zip não pega em sequência\n",
    "vendas_mes = {\n",
    "    'jan': 150,\n",
    "    'fev': 250\n",
    "}\n",
    "\n",
    "dicionario = {\n",
    "    'nota': [558147], \n",
    "    'produtos': ['iphone'],\n",
    "    'quantidade': [50]\n",
    "}\n",
    "\n",
    "for mes, valor in zip(vendas_mes.keys(), vendas_mes.values()):\n",
    "    print(f'Mês  => {mes} / valor => {valor}')\n",
    "\n",
    "for valor in zip(dicionario['nota'], dicionario['produtos'], dicionario['quantidade']):\n",
    "    print(f'valor => {valor}')\n",
    "\n",
    "janeiro = {'jan', 'fev' , 'mar'}\n",
    "fevereiro = {250, 255, 500}\n",
    "\n",
    "for i, j in zip(janeiro, fevereiro): ## \"CUIDADO, fev e jan inverte as chaves e o valor tbm\"\n",
    "    print(f'mes = {i} valor = {j}')\n",
    "\n"
   ]
  },
  {
   "cell_type": "markdown",
   "metadata": {},
   "source": [
    "    Transformando lista em dicionario"
   ]
  },
  {
   "cell_type": "code",
   "execution_count": 13,
   "metadata": {},
   "outputs": [
    {
     "name": "stdout",
     "output_type": "stream",
     "text": [
      "{'462.286.561-65': [14405, 24], '251.569.170-81': [16027, 1], '297.681.579-21': [8177, 28]}\n"
     ]
    }
   ],
   "source": [
    "clientes = [('462.286.561-65',14405,24),('251.569.170-81',16027,1),('297.681.579-21',8177,28)]\n",
    "clientes_dict = {cpf: [valor, dias] for cpf, valor, dias in clientes}\n",
    "print(clientes_dict)"
   ]
  },
  {
   "cell_type": "markdown",
   "metadata": {},
   "source": [
    "    Forma de desmembrar um dicionário\n"
   ]
  },
  {
   "cell_type": "code",
   "execution_count": 19,
   "metadata": {},
   "outputs": [
    {
     "name": "stdout",
     "output_type": "stream",
     "text": [
      "A soma de todos os valores que foram concluídos => 1796836.00\n"
     ]
    }
   ],
   "source": [
    "vendas = {'VE0001': (9868,'Concluído',''),'VE0002': (9642,'Concluído',''),'VE0003': (6007,'Concluído',''),'VE0004': (15562,'Concluído',''),'VE0005': (18752,'Cancelado','Estoque em Falta'),'VE0006': (16358,'Cancelado','Estoque em Falta'),'VE0007': (17045,'Concluído',''),'VE0008': (12230,'Concluído',''),'VE0009': (6747,'Concluído',''),'VE0010': (15114,'Concluído',''),'VE0011': (12497,'Concluído',''),'VE0012': (6001,'Concluído',''),'VE0013': (16227,'Cancelado','Cancelada pelo Cliente'),'VE0014': (16150,'Concluído',''),'VE0015': (17705,'Concluído',''),'VE0016': (9978,'Concluído',''),'VE0017': (4266,'Concluído',''),'VE0018': (11531,'Concluído',''),'VE0019': (10352,'Cancelado','Cancelada pelo Cliente'),'VE0020': (16544,'Concluído',''),'VE0021': (15488,'Concluído',''),'VE0022': (15828,'Concluído',''),'VE0023': (1218,'Concluído',''),'VE0024': (11560,'Concluído',''),'VE0025': (14220,'Concluído',''),'VE0026': (17839,'Concluído',''),'VE0027': (4050,'Concluído',''),'VE0028': (7594,'Cancelado','Estoque em Falta'),'VE0029': (19586,'Concluído',''),'VE0030': (8453,'Concluído',''),'VE0031': (3589,'Concluído',''),'VE0032': (13472,'Cancelado','Cancelada pelo Cliente'),'VE0033': (16994,'Concluído',''),'VE0034': (2139,'Concluído',''),'VE0035': (10173,'Concluído',''),'VE0036': (17784,'Cancelado','Estoque em Falta'),'VE0037': (12214,'Concluído',''),'VE0038': (5878,'Concluído',''),'VE0039': (2622,'Concluído',''),'VE0040': (9765,'Concluído',''),'VE0041': (8872,'Concluído',''),'VE0042': (16543,'Concluído',''),'VE0043': (8994,'Concluído',''),'VE0044': (4332,'Concluído',''),'VE0045': (19679,'Concluído',''),'VE0046': (14968,'Concluído',''),'VE0047': (6352,'Concluído',''),'VE0048': (11461,'Concluído',''),'VE0049': (5285,'Concluído',''),'VE0050': (11639,'Concluído',''),'VE0051': (6023,'Concluído',''),'VE0052': (4943,'Concluído',''),'VE0053': (5654,'Concluído',''),'VE0054': (11734,'Concluído',''),'VE0055': (2742,'Concluído',''),'VE0056': (5380,'Cancelado','Estoque em Falta'),'VE0057': (5578,'Concluído',''),'VE0058': (1897,'Concluído',''),'VE0059': (7857,'Concluído',''),'VE0060': (4472,'Concluído',''),'VE0061': (19874,'Concluído',''),'VE0062': (13323,'Cancelado','Cancelada pelo Cliente'),'VE0063': (5821,'Concluído',''),'VE0064': (4410,'Concluído',''),'VE0065': (16676,'Concluído',''),'VE0066': (10577,'Concluído',''),'VE0067': (10627,'Concluído',''),'VE0068': (1987,'Concluído',''),'VE0069': (13197,'Concluído',''),'VE0070': (15063,'Concluído',''),'VE0071': (14363,'Concluído',''),'VE0072': (10452,'Concluído',''),'VE0073': (15376,'Concluído',''),'VE0074': (4661,'Concluído',''),'VE0075': (13287,'Concluído',''),'VE0076': (8278,'Concluído',''),'VE0077': (7134,'Concluído',''),'VE0078': (16568,'Concluído',''),'VE0079': (17732,'Concluído',''),'VE0080': (5127,'Concluído',''),'VE0081': (4582,'Concluído',''),'VE0082': (14804,'Cancelado','Cancelada pelo Cliente'),'VE0083': (12362,'Concluído',''),'VE0084': (1148,'Concluído',''),'VE0085': (14018,'Concluído',''),'VE0086': (15891,'Concluído',''),'VE0087': (4517,'Concluído',''),'VE0088': (1770,'Concluído',''),'VE0089': (14926,'Concluído',''),'VE0090': (13627,'Concluído',''),'VE0091': (3047,'Concluído',''),'VE0092': (13924,'Concluído',''),'VE0093': (7158,'Concluído',''),'VE0094': (5942,'Concluído',''),'VE0095': (13480,'Concluído',''),'VE0096': (17686,'Concluído',''),'VE0097': (5722,'Cancelado','Cancelada pelo Cliente'),'VE0098': (16963,'Concluído',''),'VE0099': (14225,'Concluído',''),'VE0100': (12553,'Concluído',''),'VE0101': (18047,'Concluído',''),'VE0102': (11420,'Concluído',''),'VE0103': (6191,'Concluído',''),'VE0104': (8388,'Concluído',''),'VE0105': (17210,'Concluído',''),'VE0106': (12217,'Concluído',''),'VE0107': (8984,'Concluído',''),'VE0108': (7638,'Cancelado','Cancelada pelo Cliente'),'VE0109': (8462,'Concluído',''),'VE0110': (14081,'Concluído',''),'VE0111': (10842,'Concluído',''),'VE0112': (13261,'Concluído',''),'VE0113': (16953,'Cancelado','Estoque em Falta'),'VE0114': (5343,'Concluído',''),'VE0115': (4734,'Concluído',''),'VE0116': (13606,'Cancelado','Cancelada pelo Cliente'),'VE0117': (17106,'Cancelado','Estoque em Falta'),'VE0118': (17704,'Concluído',''),'VE0119': (12242,'Concluído',''),'VE0120': (7476,'Cancelado','Estoque em Falta'),'VE0121': (18408,'Concluído',''),'VE0122': (13612,'Concluído',''),'VE0123': (18198,'Concluído',''),'VE0124': (4844,'Concluído',''),'VE0125': (12750,'Concluído',''),'VE0126': (11969,'Concluído',''),'VE0127': (15337,'Concluído',''),'VE0128': (1100,'Concluído',''),'VE0129': (18893,'Concluído',''),'VE0130': (15850,'Concluído',''),'VE0131': (2097,'Concluído',''),'VE0132': (11636,'Cancelado','Estoque em Falta'),'VE0133': (12603,'Concluído',''),'VE0134': (10769,'Concluído',''),'VE0135': (11016,'Concluído',''),'VE0136': (14556,'Concluído',''),'VE0137': (1389,'Concluído',''),'VE0138': (11681,'Concluído',''),'VE0139': (16759,'Cancelado','Cancelada pelo Cliente'),'VE0140': (16317,'Concluído',''),'VE0141': (5965,'Concluído',''),'VE0142': (4493,'Concluído',''),'VE0143': (5398,'Concluído',''),'VE0144': (9875,'Concluído',''),'VE0145': (17492,'Concluído',''),'VE0146': (7473,'Concluído',''),'VE0147': (10284,'Concluído',''),'VE0148': (10778,'Concluído',''),'VE0149': (2227,'Concluído',''),'VE0150': (14157,'Concluído',''),'VE0151': (9516,'Concluído',''),'VE0152': (9824,'Concluído',''),'VE0153': (5118,'Concluído',''),'VE0154': (5123,'Concluído',''),'VE0155': (2697,'Concluído',''),'VE0156': (19024,'Concluído',''),'VE0157': (5128,'Concluído',''),'VE0158': (8293,'Cancelado','Estoque em Falta'),'VE0159': (18782,'Concluído',''),'VE0160': (12182,'Concluído',''),'VE0161': (9063,'Concluído',''),'VE0162': (17608,'Concluído',''),'VE0163': (8456,'Cancelado','Cancelada pelo Cliente'),'VE0164': (1291,'Concluído',''),'VE0165': (14018,'Concluído',''),'VE0166': (2791,'Concluído',''),'VE0167': (17953,'Concluído',''),'VE0168': (14627,'Concluído',''),'VE0169': (3296,'Concluído',''),'VE0170': (1863,'Concluído',''),'VE0171': (4719,'Concluído',''),'VE0172': (15060,'Concluído',''),'VE0173': (2596,'Cancelado','Cancelada pelo Cliente'),'VE0174': (4919,'Concluído',''),'VE0175': (13770,'Concluído',''),'VE0176': (15041,'Cancelado','Estoque em Falta'),'VE0177': (6702,'Concluído',''),'VE0178': (9989,'Concluído',''),'VE0179': (5135,'Concluído',''),'VE0180': (13337,'Concluído',''),'VE0181': (13457,'Concluído',''),'VE0182': (17218,'Concluído',''),'VE0183': (6424,'Concluído',''),'VE0184': (5478,'Concluído',''),'VE0185': (10478,'Cancelado','Cancelada pelo Cliente'),'VE0186': (3240,'Concluído',''),'VE0187': (16503,'Concluído',''),'VE0188': (12762,'Concluído',''),'VE0189': (6985,'Cancelado','Cancelada pelo Cliente'),'VE0190': (13013,'Concluído',''),'VE0191': (5706,'Concluído',''),'VE0192': (6521,'Cancelado','Estoque em Falta'),'VE0193': (12904,'Concluído',''),'VE0194': (14691,'Concluído',''),'VE0195': (19338,'Concluído',''),'VE0196': (4556,'Cancelado','Cancelada pelo Cliente'),'VE0197': (9653,'Concluído',''),'VE0198': (4617,'Concluído',''),'VE0199': (4717,'Concluído',''),'VE0200': (8366,'Concluído','')}\n",
    "\n",
    "total = 0\n",
    "for venda in vendas:\n",
    "    valor , status, motivo = vendas[venda] ### \n",
    "    if status == 'Concluído':\n",
    "        total += valor\n",
    "print(f'A soma de todos os valores que foram concluídos => {total:.2f}')\n"
   ]
  }
 ],
 "metadata": {
  "kernelspec": {
   "display_name": "Python 3",
   "language": "python",
   "name": "python3"
  },
  "language_info": {
   "codemirror_mode": {
    "name": "ipython",
    "version": 3
   },
   "file_extension": ".py",
   "mimetype": "text/x-python",
   "name": "python",
   "nbconvert_exporter": "python",
   "pygments_lexer": "ipython3",
   "version": "3.12.2"
  }
 },
 "nbformat": 4,
 "nbformat_minor": 2
}
