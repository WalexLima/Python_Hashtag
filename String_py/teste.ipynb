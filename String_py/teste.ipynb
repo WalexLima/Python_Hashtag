{
 "cells": [
  {
   "cell_type": "markdown",
   "metadata": {},
   "source": [
    "#### Crie um programa para cadastro de CPF em input box apenas com números.\n",
    "\n",
    "- Exemplo o CPF tem que ter apenas números\n",
    "\n",
    "- Caso o usuário digite algo diferente de números ou digite um número menor que 11. O programa ira mostrar uma msg\n",
    "- MSG: \"Digite seu CPF corretamente e digite apenas números.\""
   ]
  },
  {
   "cell_type": "code",
   "execution_count": 1,
   "metadata": {},
   "outputs": [
    {
     "name": "stdout",
     "output_type": "stream",
     "text": [
      "Validação 01°: CPF valido.\n",
      "Validação 02°: CPF valido.\n"
     ]
    }
   ],
   "source": [
    "cpf = '25623251125'\n",
    "\n",
    "## Validação 01°\n",
    "\n",
    "if 11 == len(cpf) and cpf.isnumeric() == True :\n",
    "    print('Validação 01°: CPF valido.')\n",
    "else:\n",
    "    print('Validação 01°: Digite seu CPF corretamente e digite apenas números')\n",
    "\n",
    "## Validação 02°\n",
    "\n",
    "if len(cpf) != 11 and len(cpf) > 11 and cpf.isnumeric() == True:\n",
    "    print(f'Validação 02°: CPF Está acima de 11 ele tem \"{len(cpf)}\" o correto é ter \"11\".')\n",
    "elif len(cpf) != 11 and len(cpf) < 11 and cpf.isnumeric() == True:\n",
    "    print(f'Validação 02°: CPF com apenas {len(cpf)} o correto é ter \"11\".')\n",
    "elif cpf.isnumeric() != True:\n",
    "    print(f'Validação 02°: CPF possui algum tipo de caracter que não é número. Getileza verificar!')\n",
    "else:\n",
    "    print('Validação 02°: CPF valido.')"
   ]
  },
  {
   "cell_type": "markdown",
   "metadata": {},
   "source": [
    "##### A Hashtag sempre se comunica com seus clientes por e-mail. Para isso, a gente tem em cada página um cadastro de nome e e-mail. Nesse cadastro, nosso sistema verifica se o e-mail que a pessoa inseriu é um e-mail válido, verificando se ele tem '@' e se depois do '@' tem algum ponto, afinal:\n",
    "\n",
    "- walexgmail.com NÃO é um e-mail válido\n",
    "- walex@gmail NÃO é um e-mail válido\n",
    "- walex@gmail.com é um e-mail válido"
   ]
  },
  {
   "cell_type": "code",
   "execution_count": null,
   "metadata": {},
   "outputs": [],
   "source": []
  }
 ],
 "metadata": {
  "kernelspec": {
   "display_name": "Python 3",
   "language": "python",
   "name": "python3"
  },
  "language_info": {
   "codemirror_mode": {
    "name": "ipython",
    "version": 3
   },
   "file_extension": ".py",
   "mimetype": "text/x-python",
   "name": "python",
   "nbconvert_exporter": "python",
   "pygments_lexer": "ipython3",
   "version": "3.12.2"
  }
 },
 "nbformat": 4,
 "nbformat_minor": 2
}
