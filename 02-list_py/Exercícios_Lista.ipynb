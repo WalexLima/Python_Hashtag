{
 "cells": [
  {
   "cell_type": "markdown",
   "metadata": {},
   "source": [
    "#### 1° Pegar as 03 maiores vendas:"
   ]
  },
  {
   "cell_type": "code",
   "execution_count": 20,
   "metadata": {},
   "outputs": [
    {
     "name": "stdout",
     "output_type": "stream",
     "text": [
      "valores array  => [100, 200, 300, 400, 50, 75]\n",
      "Maiores vendas => [700, 600, 500] \n"
     ]
    }
   ],
   "source": [
    "valores = [100, 200, 300, 400, 500 ,600 ,700 , 50 , 75]\n",
    "maiores = []\n",
    "\n",
    "for i in range(3):\n",
    "    maior = max(valores)\n",
    "    maiores.append(maior)\n",
    "    valores.remove(maior)\n",
    "\n",
    "print(f'valores array  => {valores}')\n",
    "print(f'Maiores vendas => {maiores} ')\n"
   ]
  },
  {
   "cell_type": "markdown",
   "metadata": {},
   "source": [
    "#### 2° Pegar as 03 maiores vendas e o nome do vendedor:\n"
   ]
  },
  {
   "cell_type": "code",
   "execution_count": 147,
   "metadata": {},
   "outputs": [
    {
     "name": "stdout",
     "output_type": "stream",
     "text": [
      "1° O vendedor(a) Rubia vendeu: 1000\n",
      "2° O vendedor(a) Marcus vendeu: 900\n",
      "3° O vendedor(a) Alex vendeu: 800\n"
     ]
    }
   ],
   "source": [
    "vendedores = ['João', 'Julia', 'Bernado', 'Maria', 'Alan', 'Ana', 'Paulo', 'Alex' , 'Marcus', 'Rubia']\n",
    "valores = [100, 200, 300, 400, 500 ,600 ,700 , 800 , 900, 1000]\n",
    "vendedores_new = []\n",
    "valores_new = []\n",
    "\n",
    "cont = 0\n",
    "while cont < 3:\n",
    "    maior = 0\n",
    "    vendedor = ''\n",
    "    for i, valor in enumerate(valores):\n",
    "        if maior < valor:\n",
    "            maior = valor\n",
    "            vendedor = vendedores[i]\n",
    "    vendedores_new.append(vendedor)\n",
    "    vendedores.remove(vendedor)\n",
    "    valores_new.append(maior)\n",
    "    valores.remove(maior)\n",
    "    cont += 1\n",
    "    \n",
    "for i, valor in enumerate(valores_new):\n",
    "    print(f'{i+1}° O vendedor(a) {vendedores_new[i]} vendeu: {valor}')"
   ]
  },
  {
   "cell_type": "markdown",
   "metadata": {},
   "source": [
    "#### 3° Pegar os vendedores que bateram a meta"
   ]
  },
  {
   "cell_type": "code",
   "execution_count": 179,
   "metadata": {},
   "outputs": [
    {
     "name": "stdout",
     "output_type": "stream",
     "text": [
      "1° O(a) vendedor(a) Rubia teve um total de 1000 \n",
      "2° O(a) vendedor(a) Marcus teve um total de 900 \n",
      "3° O(a) vendedor(a) Alex teve um total de 800 \n",
      "4° O(a) vendedor(a) Paulo teve um total de 700 \n",
      "5° O(a) vendedor(a) Ana teve um total de 600 \n"
     ]
    }
   ],
   "source": [
    "vendedores = ['João', 'Julia', 'Bernado', 'Maria', 'Alan', 'Ana', 'Paulo', 'Alex' , 'Marcus', 'Rubia']\n",
    "valores = [100, 200, 300, 400, 500 ,600 ,700 , 800 , 900, 1000]\n",
    "totais = {}\n",
    "meta = 500\n",
    "\n",
    "for i, valor in enumerate(valores):\n",
    "    if valor > meta:\n",
    "        totais[vendedores[i]] = valor\n",
    "\n",
    "totais_new = sorted(totais.items(), key=lambda item: item[1], reverse = True)\n",
    "\n",
    "for i, valor in enumerate(totais_new):\n",
    "    vendedor, total = valor\n",
    "    print(f'{i+1}° O(a) vendedor(a) {vendedor} teve um total de {total} ')"
   ]
  }
 ],
 "metadata": {
  "kernelspec": {
   "display_name": "Python 3",
   "language": "python",
   "name": "python3"
  },
  "language_info": {
   "codemirror_mode": {
    "name": "ipython",
    "version": 3
   },
   "file_extension": ".py",
   "mimetype": "text/x-python",
   "name": "python",
   "nbconvert_exporter": "python",
   "pygments_lexer": "ipython3",
   "version": "3.12.2"
  }
 },
 "nbformat": 4,
 "nbformat_minor": 2
}
