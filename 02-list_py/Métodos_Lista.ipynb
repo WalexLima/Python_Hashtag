{
 "cells": [
  {
   "cell_type": "markdown",
   "metadata": {},
   "source": [
    "    append()\n",
    "    Descrição: Adiciona um item ao final da lista.\n",
    "    Sintaxe: lista.append(item)"
   ]
  },
  {
   "cell_type": "code",
   "execution_count": 1,
   "metadata": {},
   "outputs": [
    {
     "name": "stdout",
     "output_type": "stream",
     "text": [
      "[150, 320, 110]\n"
     ]
    }
   ],
   "source": [
    "vendas = [150, 320]\n",
    "vendas.append(110)\n",
    "print(vendas)\n"
   ]
  },
  {
   "cell_type": "markdown",
   "metadata": {},
   "source": [
    "    extend()\n",
    "    Descrição: Adiciona todos os itens de um iterável (como outra lista) ao final da lista.\n",
    "    Sintaxe: lista.extend(iteravel)"
   ]
  },
  {
   "cell_type": "code",
   "execution_count": 9,
   "metadata": {},
   "outputs": [
    {
     "name": "stdout",
     "output_type": "stream",
     "text": [
      "[1, 2, 3, 4, 5, 6, 7, 8, 9, 10, 11, 12]\n"
     ]
    }
   ],
   "source": [
    "vendas = [1, 2, 3, 4, 5, 6]\n",
    "vendas_2semestre = [7, 8, 9, 10, 11, 12]\n",
    "vendas.extend(vendas_2semestre)\n",
    "print(vendas)"
   ]
  },
  {
   "cell_type": "markdown",
   "metadata": {},
   "source": [
    "    insert()\n",
    "    Descrição: Insere um item em uma posição específica.\n",
    "    Sintaxe: lista.insert(posicao, item)\n"
   ]
  },
  {
   "cell_type": "code",
   "execution_count": 1,
   "metadata": {},
   "outputs": [
    {
     "name": "stdout",
     "output_type": "stream",
     "text": [
      "[150, 110, 320]\n"
     ]
    }
   ],
   "source": [
    "vendas = [150, 320]\n",
    "vendas.insert(1, 110)\n",
    "print(vendas)"
   ]
  },
  {
   "cell_type": "markdown",
   "metadata": {},
   "source": [
    "    remove()\n",
    "    Descrição: Remove a primeira ocorrência de um item.\n",
    "    Sintaxe: lista.remove(item)\n"
   ]
  },
  {
   "cell_type": "code",
   "execution_count": 2,
   "metadata": {},
   "outputs": [
    {
     "name": "stdout",
     "output_type": "stream",
     "text": [
      "['João', 'Julia', 'Ana', 'Paulo', 'Marcus']\n"
     ]
    }
   ],
   "source": [
    "vendedores = ['João', 'Julia', 'Maria', 'Ana', 'Paulo', 'Marcus']\n",
    "vendedores.remove('Maria')\n",
    "print(vendedores)"
   ]
  },
  {
   "cell_type": "markdown",
   "metadata": {},
   "source": [
    "    pop()\n",
    "    Descrição:Remove e retorna o item na posição especificada. Se a posição não for especificada, remove e retorna o último item.\n",
    "    Sintaxe: lista.pop([posicao])\n"
   ]
  },
  {
   "cell_type": "code",
   "execution_count": 3,
   "metadata": {},
   "outputs": [
    {
     "name": "stdout",
     "output_type": "stream",
     "text": [
      "['João', 'Julia', 'Ana', 'Paulo', 'Marcus']\n"
     ]
    }
   ],
   "source": [
    "vendedores = ['João', 'Julia', 'Maria', 'Ana', 'Paulo', 'Marcus']\n",
    "vendedores.pop(2)\n",
    "print(vendedores)"
   ]
  },
  {
   "cell_type": "markdown",
   "metadata": {},
   "source": [
    "    clear()\n",
    "    Descrição: Remove todos os itens da lista.\n",
    "    Sintaxe: lista.clear()"
   ]
  },
  {
   "cell_type": "code",
   "execution_count": 14,
   "metadata": {},
   "outputs": [
    {
     "name": "stdout",
     "output_type": "stream",
     "text": [
      "[]\n"
     ]
    }
   ],
   "source": [
    "vendedores = ['João', 'Julia', 'Maria', 'Ana', 'Paulo', 'Marcus']\n",
    "vendedores.clear()\n",
    "print(vendedores)"
   ]
  },
  {
   "cell_type": "markdown",
   "metadata": {},
   "source": [
    "    index()\n",
    "    Descrição: Retorna o índice da primeira ocorrência de um item. Pode aceitar parâmetros opcionais para especificar um intervalo de busca.\n",
    "    Sintaxe: lista.index(item, [inicio, [fim]])\n"
   ]
  },
  {
   "cell_type": "code",
   "execution_count": 16,
   "metadata": {},
   "outputs": [
    {
     "name": "stdout",
     "output_type": "stream",
     "text": [
      "Lista: ['João', 'Julia', 'Maria', 'Ana', 'Paulo', 'Marcus']\n",
      "Posição: 0\n"
     ]
    }
   ],
   "source": [
    "vendedores = ['João', 'Julia', 'Maria', 'Ana', 'Paulo', 'Marcus']\n",
    "posicao_Joao = vendedores.index('João')\n",
    "print(f'Lista: {vendedores}')\n",
    "print(f'Posição: {posicao_Joao}')"
   ]
  },
  {
   "cell_type": "markdown",
   "metadata": {},
   "source": [
    "    count()\n",
    "    Descrição: Retorna o número de ocorrências de um item na lista.\n",
    "    Sintaxe: lista.count(item)"
   ]
  },
  {
   "cell_type": "code",
   "execution_count": 19,
   "metadata": {},
   "outputs": [
    {
     "name": "stdout",
     "output_type": "stream",
     "text": [
      "Lista: ['João', 'Julia', 'Maria', 'Ana', 'Paulo', 'Marcus', 'João']\n",
      "Quantidade Duplicada: 2\n"
     ]
    }
   ],
   "source": [
    "vendedores = ['João', 'Julia', 'Maria', 'Ana', 'Paulo', 'Marcus', 'João']\n",
    "qtde_Joao = vendedores.count('João')\n",
    "print(f'Lista: {vendedores}')\n",
    "print(f'Quantidade Duplicada: {qtde_Joao}')"
   ]
  },
  {
   "cell_type": "markdown",
   "metadata": {},
   "source": [
    "    sort()\n",
    "    Descrição: Ordena os itens da lista no local (in-place).\n",
    "    Sintaxe: lista.sort(key=None, reverse=False)"
   ]
  },
  {
   "cell_type": "code",
   "execution_count": 4,
   "metadata": {},
   "outputs": [
    {
     "name": "stdout",
     "output_type": "stream",
     "text": [
      "Maior para o Menor: [480, 300, 190, 150]\n",
      "Menor para o Maior: [150, 190, 300, 480]\n"
     ]
    }
   ],
   "source": [
    "vendas1 = [150, 300, 190, 480]\n",
    "vendas1.sort(reverse=True)\n",
    "print(f'Maior para o Menor: {vendas1}')\n",
    "\n",
    "vendas2 = [150, 300, 190, 480]\n",
    "vendas2.sort(reverse=False)\n",
    "print(f'Menor para o Maior: {vendas2}')"
   ]
  },
  {
   "cell_type": "markdown",
   "metadata": {},
   "source": [
    "    reverse()\n",
    "    Descrição: Inverte a ordem dos itens na lista.\n",
    "    Sintaxe: lista.reverse()    "
   ]
  },
  {
   "cell_type": "code",
   "execution_count": 23,
   "metadata": {},
   "outputs": [
    {
     "name": "stdout",
     "output_type": "stream",
     "text": [
      "[480, 190, 300, 150]\n"
     ]
    }
   ],
   "source": [
    "vendas = [150, 300, 190, 480]\n",
    "vendas.reverse()\n",
    "print(vendas)"
   ]
  },
  {
   "cell_type": "markdown",
   "metadata": {},
   "source": [
    "    copy()\n",
    "    Descrição: Retorna uma cópia rasa da lista.\n",
    "    Sintaxe: lista.copy()"
   ]
  },
  {
   "cell_type": "code",
   "execution_count": 24,
   "metadata": {},
   "outputs": [
    {
     "name": "stdout",
     "output_type": "stream",
     "text": [
      "[150, 300, 190, 480]\n"
     ]
    }
   ],
   "source": [
    "vendas = [150, 300, 190, 480]\n",
    "vendas2 = vendas.copy()\n",
    "print(vendas2)"
   ]
  },
  {
   "cell_type": "markdown",
   "metadata": {},
   "source": [
    "    in\n",
    "    Descrição: Verifica se um item está presente na lista."
   ]
  },
  {
   "cell_type": "code",
   "execution_count": 5,
   "metadata": {},
   "outputs": [
    {
     "name": "stdout",
     "output_type": "stream",
     "text": [
      "True\n",
      "False\n"
     ]
    }
   ],
   "source": [
    "vendas = [150, 300, 190, 480]\n",
    "print(150 in vendas)\n",
    "print(4 in vendas)"
   ]
  },
  {
   "cell_type": "markdown",
   "metadata": {},
   "source": [
    "#### - upper()\n",
    "    Para deixar todas as strings de uma lista/array Maiuscula"
   ]
  },
  {
   "cell_type": "code",
   "execution_count": 27,
   "metadata": {},
   "outputs": [
    {
     "name": "stdout",
     "output_type": "stream",
     "text": [
      "['TV', 'CELULAR', 'TABLET', 'MOUSE', 'TECLADO', 'GELADEIRA', 'FORNO', 'FORNO']\n"
     ]
    }
   ],
   "source": [
    "produtos = ['tv', 'celular', 'tablet', 'mouse', 'Teclado', 'geladeira', 'forno', 'forno']\n",
    "produtos_upper = [produto.upper() for produto in produtos]\n",
    "print(produtos_upper)"
   ]
  },
  {
   "cell_type": "markdown",
   "metadata": {},
   "source": [
    "#### texto.join(Lista)\n",
    "    Ao usar o join -> é só especificar a lista"
   ]
  },
  {
   "cell_type": "code",
   "execution_count": 36,
   "metadata": {},
   "outputs": [
    {
     "name": "stdout",
     "output_type": "stream",
     "text": [
      "apple, tv, mac, iphone x, iphone 11, IPad, apple, watch, mac book, airpods\n"
     ]
    }
   ],
   "source": [
    "produtos = ['apple', 'tv', 'mac', 'iphone x', 'iphone 11', 'IPad', 'apple', 'watch', 'mac book', 'airpods']\n",
    "texto = ', '.join(produtos)\n",
    "print(texto)"
   ]
  },
  {
   "cell_type": "markdown",
   "metadata": {},
   "source": [
    "#### - split(separador)\n",
    "    Escolha o separador que ira utilizar"
   ]
  },
  {
   "cell_type": "code",
   "execution_count": 40,
   "metadata": {},
   "outputs": [
    {
     "name": "stdout",
     "output_type": "stream",
     "text": [
      "['apple tv', ' mac', ' iphone x', ' iphone 11', ' IPad', ' apple watch', ' mac book', ' airpods']\n"
     ]
    }
   ],
   "source": [
    "produtos = 'apple tv, mac, iphone x, iphone 11, IPad, apple watch, mac book, airpods'\n",
    "produtos_lista = produtos.split(',')\n",
    "print(produtos_lista)"
   ]
  }
 ],
 "metadata": {
  "kernelspec": {
   "display_name": "Python 3",
   "language": "python",
   "name": "python3"
  },
  "language_info": {
   "codemirror_mode": {
    "name": "ipython",
    "version": 3
   },
   "file_extension": ".py",
   "mimetype": "text/x-python",
   "name": "python",
   "nbconvert_exporter": "python",
   "pygments_lexer": "ipython3",
   "version": "3.12.2"
  }
 },
 "nbformat": 4,
 "nbformat_minor": 2
}
