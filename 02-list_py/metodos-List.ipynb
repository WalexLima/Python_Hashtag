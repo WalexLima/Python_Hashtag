{
 "cells": [
  {
   "cell_type": "markdown",
   "metadata": {},
   "source": [
    "#### - list.append(valor)<br>\n",
    "    Adiciona um valor ao final de uma lista"
   ]
  },
  {
   "cell_type": "code",
   "execution_count": 7,
   "metadata": {},
   "outputs": [
    {
     "name": "stdout",
     "output_type": "stream",
     "text": [
      "[150, 320, 110]\n"
     ]
    }
   ],
   "source": [
    "vendas = [150, 320]\n",
    "vendas.append(110)\n",
    "print(vendas)\n"
   ]
  },
  {
   "cell_type": "markdown",
   "metadata": {},
   "source": [
    "#### - list.extend(lista2)<br>\n",
    "    Adiciona todos os valores da lista2 na lista original"
   ]
  },
  {
   "cell_type": "code",
   "execution_count": 9,
   "metadata": {},
   "outputs": [
    {
     "name": "stdout",
     "output_type": "stream",
     "text": [
      "[1, 2, 3, 4, 5, 6, 7, 8, 9, 10, 11, 12]\n"
     ]
    }
   ],
   "source": [
    "vendas = [1, 2, 3, 4, 5, 6]\n",
    "vendas_2semestre = [7, 8, 9, 10, 11, 12]\n",
    "vendas.extend(vendas_2semestre)\n",
    "print(vendas)"
   ]
  },
  {
   "cell_type": "markdown",
   "metadata": {},
   "source": [
    "#### - list.insert(posicao, valor)<br>\n",
    "    Adiciona um valor em uma posição específica em uma lista. Não é recomendado usar a não ser que seja realmente necessário inserir em uma posição específica, porque o método append é mais eficiente.\n"
   ]
  },
  {
   "cell_type": "code",
   "execution_count": 10,
   "metadata": {},
   "outputs": [
    {
     "name": "stdout",
     "output_type": "stream",
     "text": [
      "[150, 110, 320]\n"
     ]
    }
   ],
   "source": [
    "vendas = [150, 320]\n",
    "vendas.insert(1, 110)\n",
    "print(vendas)"
   ]
  },
  {
   "cell_type": "markdown",
   "metadata": {},
   "source": [
    "#### - list.remove(valor)<br>\n",
    "    Remove o valor da lista (apenas a 1ª ocorrência, então caso haja 2 vezes o valor na lista, apenas a 1ª será removida). Além disso, dá um erro caso valor não exista dentro da lista.\n"
   ]
  },
  {
   "cell_type": "code",
   "execution_count": 12,
   "metadata": {},
   "outputs": [
    {
     "name": "stdout",
     "output_type": "stream",
     "text": [
      "['João', 'Julia', 'Ana', 'Paulo', 'Marcus']\n"
     ]
    }
   ],
   "source": [
    "vendedores = ['João', 'Julia', 'Maria', 'Ana', 'Paulo', 'Marcus']\n",
    "vendedores.remove('Maria')\n",
    "print(vendedores)"
   ]
  },
  {
   "cell_type": "markdown",
   "metadata": {},
   "source": [
    "#### - list.pop(posicao)<br>\n",
    "    Remove o item que está na posicao (índice) passado. Além disso, esse item é dado como resultado do pop, portanto pode ser armazenado em uma variável ou usado para outra coisa na mesma linha de código.\n"
   ]
  },
  {
   "cell_type": "code",
   "execution_count": 13,
   "metadata": {},
   "outputs": [
    {
     "name": "stdout",
     "output_type": "stream",
     "text": [
      "['João', 'Julia', 'Ana', 'Paulo', 'Marcus']\n"
     ]
    }
   ],
   "source": [
    "vendedores = ['João', 'Julia', 'Maria', 'Ana', 'Paulo', 'Marcus']\n",
    "vendedores.pop(2)\n",
    "print(vendedores)"
   ]
  },
  {
   "cell_type": "markdown",
   "metadata": {},
   "source": [
    "#### - list.clear()\n",
    "    Remove todos os itens de uma lista"
   ]
  },
  {
   "cell_type": "code",
   "execution_count": 14,
   "metadata": {},
   "outputs": [
    {
     "name": "stdout",
     "output_type": "stream",
     "text": [
      "[]\n"
     ]
    }
   ],
   "source": [
    "vendedores = ['João', 'Julia', 'Maria', 'Ana', 'Paulo', 'Marcus']\n",
    "vendedores.clear()\n",
    "print(vendedores)"
   ]
  },
  {
   "cell_type": "markdown",
   "metadata": {},
   "source": [
    "#### - list.index(valor)\n",
    "    Retorna a posição do valor dentro da lista (em qual índice está o valor). Dá erro caso não haja o valor dentro da lista.\n"
   ]
  },
  {
   "cell_type": "code",
   "execution_count": 16,
   "metadata": {},
   "outputs": [
    {
     "name": "stdout",
     "output_type": "stream",
     "text": [
      "Lista: ['João', 'Julia', 'Maria', 'Ana', 'Paulo', 'Marcus']\n",
      "Posição: 0\n"
     ]
    }
   ],
   "source": [
    "vendedores = ['João', 'Julia', 'Maria', 'Ana', 'Paulo', 'Marcus']\n",
    "posicao_Joao = vendedores.index('João')\n",
    "print(f'Lista: {vendedores}')\n",
    "print(f'Posição: {posicao_Joao}')"
   ]
  },
  {
   "cell_type": "markdown",
   "metadata": {},
   "source": [
    "#### - list.count(valor)\n",
    "    Retorna a quantidade de vezes que o valor aparece na lista"
   ]
  },
  {
   "cell_type": "code",
   "execution_count": 19,
   "metadata": {},
   "outputs": [
    {
     "name": "stdout",
     "output_type": "stream",
     "text": [
      "Lista: ['João', 'Julia', 'Maria', 'Ana', 'Paulo', 'Marcus', 'João']\n",
      "Quantidade Duplicada: 2\n"
     ]
    }
   ],
   "source": [
    "vendedores = ['João', 'Julia', 'Maria', 'Ana', 'Paulo', 'Marcus', 'João']\n",
    "qtde_Joao = vendedores.count('João')\n",
    "print(f'Lista: {vendedores}')\n",
    "print(f'Quantidade Duplicada: {qtde_Joao}')"
   ]
  },
  {
   "cell_type": "markdown",
   "metadata": {},
   "source": [
    "#### - list.sort(reverse=False)<br>\n",
    "    Ordena os valores da lista em ordem crescente, ou alfabética, (reverse=False) ou decrescente (reverse=True)."
   ]
  },
  {
   "cell_type": "code",
   "execution_count": 22,
   "metadata": {},
   "outputs": [
    {
     "name": "stdout",
     "output_type": "stream",
     "text": [
      "Maior para o Menor: [480, 300, 190, 150]\n",
      "Menor para o Maior: [150, 190, 300, 480]\n"
     ]
    }
   ],
   "source": [
    "vendas1 = [150, 300, 190, 480]\n",
    "vendas1.sort(reverse=True)\n",
    "print(f'Maior para o Menor: {vendas1}')\n",
    "\n",
    "vendas2 = [150, 300, 190, 480]\n",
    "vendas2.sort(reverse=False)\n",
    "print(f'Menor para o Maior: {vendas2}')"
   ]
  },
  {
   "cell_type": "markdown",
   "metadata": {},
   "source": [
    "#### - list.reverse()\n",
    "    Inverte a ordem dos elementos de uma lista."
   ]
  },
  {
   "cell_type": "code",
   "execution_count": 23,
   "metadata": {},
   "outputs": [
    {
     "name": "stdout",
     "output_type": "stream",
     "text": [
      "[480, 190, 300, 150]\n"
     ]
    }
   ],
   "source": [
    "vendas = [150, 300, 190, 480]\n",
    "vendas.reverse()\n",
    "print(vendas)"
   ]
  },
  {
   "cell_type": "markdown",
   "metadata": {},
   "source": [
    "\n",
    "#### - list.copy()\n",
    "    Cria uma cópia da lista original. Outra opção é fazer lista2 = lista1[:]"
   ]
  },
  {
   "cell_type": "code",
   "execution_count": 24,
   "metadata": {},
   "outputs": [
    {
     "name": "stdout",
     "output_type": "stream",
     "text": [
      "[150, 300, 190, 480]\n"
     ]
    }
   ],
   "source": [
    "vendas = [150, 300, 190, 480]\n",
    "vendas2 = vendas.copy()\n",
    "print(vendas2)"
   ]
  },
  {
   "cell_type": "markdown",
   "metadata": {},
   "source": [
    "#### - upper()\n",
    "    Para deixar todas as strings de uma lista/array Maiuscula"
   ]
  },
  {
   "cell_type": "code",
   "execution_count": 27,
   "metadata": {},
   "outputs": [
    {
     "name": "stdout",
     "output_type": "stream",
     "text": [
      "['TV', 'CELULAR', 'TABLET', 'MOUSE', 'TECLADO', 'GELADEIRA', 'FORNO', 'FORNO']\n"
     ]
    }
   ],
   "source": [
    "produtos = ['tv', 'celular', 'tablet', 'mouse', 'Teclado', 'geladeira', 'forno', 'forno']\n",
    "produtos_upper = [produto.upper() for produto in produtos]\n",
    "print(produtos_upper)"
   ]
  },
  {
   "cell_type": "markdown",
   "metadata": {},
   "source": [
    "#### texto.join(Lista)\n",
    "    Ao usar o join -> é só especificar a lista"
   ]
  },
  {
   "cell_type": "code",
   "execution_count": 36,
   "metadata": {},
   "outputs": [
    {
     "name": "stdout",
     "output_type": "stream",
     "text": [
      "apple, tv, mac, iphone x, iphone 11, IPad, apple, watch, mac book, airpods\n"
     ]
    }
   ],
   "source": [
    "produtos = ['apple', 'tv', 'mac', 'iphone x', 'iphone 11', 'IPad', 'apple', 'watch', 'mac book', 'airpods']\n",
    "texto = ', '.join(produtos)\n",
    "print(texto)"
   ]
  },
  {
   "cell_type": "markdown",
   "metadata": {},
   "source": [
    "#### - split(separador)\n",
    "    Escolha o separador que ira utilizar"
   ]
  },
  {
   "cell_type": "code",
   "execution_count": 40,
   "metadata": {},
   "outputs": [
    {
     "name": "stdout",
     "output_type": "stream",
     "text": [
      "['apple tv', ' mac', ' iphone x', ' iphone 11', ' IPad', ' apple watch', ' mac book', ' airpods']\n"
     ]
    }
   ],
   "source": [
    "produtos = 'apple tv, mac, iphone x, iphone 11, IPad, apple watch, mac book, airpods'\n",
    "produtos_lista = produtos.split(',')\n",
    "print(produtos_lista)"
   ]
  }
 ],
 "metadata": {
  "kernelspec": {
   "display_name": "Python 3",
   "language": "python",
   "name": "python3"
  },
  "language_info": {
   "codemirror_mode": {
    "name": "ipython",
    "version": 3
   },
   "file_extension": ".py",
   "mimetype": "text/x-python",
   "name": "python",
   "nbconvert_exporter": "python",
   "pygments_lexer": "ipython3",
   "version": "3.12.2"
  }
 },
 "nbformat": 4,
 "nbformat_minor": 2
}
