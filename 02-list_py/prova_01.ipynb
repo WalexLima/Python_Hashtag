{
 "cells": [
  {
   "cell_type": "code",
   "execution_count": null,
   "metadata": {},
   "outputs": [],
   "source": [
    "##Pegue o maior e o menor valor, depois pegue os 03 maiores valores\n",
    "\n",
    "meses = ['jan', 'fev', 'mar', 'abr', 'mai', 'jun', 'jul', 'ago', 'set', 'out', 'nov', 'dez']\n",
    "vendas_1sem = [25000, 29000, 22200, 17750, 15870, 19900]\n",
    "vendas_2sem = [19850, 20120, 17540, 15555, 49051, 9650]"
   ]
  },
  {
   "cell_type": "code",
   "execution_count": 10,
   "metadata": {},
   "outputs": [
    {
     "name": "stdout",
     "output_type": "stream",
     "text": [
      "O vendedor walex vendeu 100 Ipad e 200Iphone\n",
      "    totalizando 300 produtos\n",
      "-----------\n",
      "O vendedor rafael vendeu 300 Ipad e 500Iphone\n",
      "    totalizando 800 produtos\n",
      "-----------\n",
      "O vendedor rúbia vendeu 50 Ipad e 1000Iphone\n",
      "    totalizando 1050 produtos\n",
      "-----------\n",
      "O vendedor diocel vendeu 900 Ipad e 10Iphone\n",
      "    totalizando 910 produtos\n",
      "-----------\n"
     ]
    }
   ],
   "source": [
    "vendedores = ['walex', 'rafael', 'rúbia' , 'diocel']\n",
    "produtos = ['Ipad', 'Iphone']\n",
    "vendas = [\n",
    "    [100, 200],\n",
    "    [300, 500],\n",
    "    [50, 1000],\n",
    "    [900, 10],\n",
    "]\n",
    "\n",
    "\n",
    "\n",
    "for i, t in enumerate(vendedores):\n",
    "    print(f'''O vendedor {vendedores[i]} vendeu {vendas[i][0]} {produtos[0]} e {vendas[i][1]}{produtos[1]}\n",
    "    totalizando {vendas[i][0] + vendas[i][1]} produtos''')\n",
    "    print('-----------')\n",
    "\n",
    "            \n"
   ]
  },
  {
   "cell_type": "code",
   "execution_count": null,
   "metadata": {},
   "outputs": [],
   "source": [
    "## Inserir 10%   * 1.1\n",
    "produtos = ['computador', 'livro', 'tablet', 'celular', 'tv', 'ar condicionado', 'alexa', 'máquina de café', 'kindle']\n",
    "\n",
    "#cada item da lista dos produtos corresponde a quantidade de vendas no mês e preço, nessa ordem\n",
    "produtos_ecommerce = [\n",
    "    [10000, 2500],\n",
    "    [50000, 40],\n",
    "    [7000, 1200],\n",
    "    [20000, 1500],\n",
    "    [5800, 1300],\n",
    "    [7200, 2500],\n",
    "    [200, 800],\n",
    "    [3300, 700],\n",
    "    [1900, 400]\n",
    "]"
   ]
  }
 ],
 "metadata": {
  "kernelspec": {
   "display_name": "Python 3",
   "language": "python",
   "name": "python3"
  },
  "language_info": {
   "codemirror_mode": {
    "name": "ipython",
    "version": 3
   },
   "file_extension": ".py",
   "mimetype": "text/x-python",
   "name": "python",
   "nbconvert_exporter": "python",
   "pygments_lexer": "ipython3",
   "version": "3.12.2"
  }
 },
 "nbformat": 4,
 "nbformat_minor": 2
}
