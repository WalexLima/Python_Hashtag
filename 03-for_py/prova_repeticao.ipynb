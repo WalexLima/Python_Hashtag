{
 "cells": [
  {
   "cell_type": "markdown",
   "metadata": {},
   "source": [
    "#### 1. Faça um programa que peça uma nota, entre zero e dez. Mostre uma mensagem caso o valor seja inválido e continue pedindo até que o usuário informe um valor válido."
   ]
  },
  {
   "cell_type": "code",
   "execution_count": 7,
   "metadata": {},
   "outputs": [
    {
     "name": "stdout",
     "output_type": "stream",
     "text": [
      "Nota errada!\n",
      "Nota errada!\n",
      "Nota errada!\n"
     ]
    }
   ],
   "source": [
    "nota = 12\n",
    "cont = 0\n",
    "\n",
    "while cont < 3:\n",
    "    if nota >= 0 and nota <= 10:\n",
    "        print('A nota está correta')\n",
    "    else:\n",
    "        print('Nota errada!') \n",
    "    cont += 1"
   ]
  },
  {
   "cell_type": "markdown",
   "metadata": {},
   "source": [
    "#### 2. Faça um programa que leia um nome de usuário e a sua senha e não aceite a senha igual ao nome do usuário, mostrando uma mensagem de erro e voltando a pedir as informações."
   ]
  },
  {
   "cell_type": "code",
   "execution_count": 22,
   "metadata": {},
   "outputs": [
    {
     "name": "stdout",
     "output_type": "stream",
     "text": [
      "Senha e nome iguais!\n"
     ]
    }
   ],
   "source": [
    "while True:\n",
    "    nome = 'wa'\n",
    "    senha = 'wA   '\n",
    "\n",
    "    nome_m = nome.upper().strip()\n",
    "    senha_m = senha.upper().strip()\n",
    "\n",
    "    if nome_m != senha_m:\n",
    "        print('Senha correta!')\n",
    "        break\n",
    "    else:\n",
    "        print('Senha e nome iguais!')\n",
    "        break"
   ]
  },
  {
   "cell_type": "markdown",
   "metadata": {},
   "source": [
    "#### 3. Faça um programa que leia e valide as seguintes informações (e para cada uma delas, continue pedindo a informação até o usuário inserir corretamente):\n",
    "##### Nome: maior que 3 caracteres;\n",
    "##### Idade: entre 0 e 150;\n",
    "##### Salário: maior que zero;\n",
    "##### Sexo: 'f' ou 'm';\n",
    "##### Estado Civil: 's', 'c', 'v', 'd';"
   ]
  },
  {
   "cell_type": "code",
   "execution_count": 63,
   "metadata": {},
   "outputs": [
    {
     "name": "stdout",
     "output_type": "stream",
     "text": [
      "walex\n",
      "33\n",
      "3700.0\n",
      "M\n",
      "C\n"
     ]
    }
   ],
   "source": [
    "nome = 'walex'\n",
    "idade = 33\n",
    "salario = 3700.00\n",
    "sexo = 'M'\n",
    "est_civil = 'c'.upper()\n",
    "\n",
    "if len(nome) > 3 and idade < 150 and salario > 0 and 'm' or 'M' in sexo and est_civil == 'C' or 'c':\n",
    "    print(nome)\n",
    "    print(idade)\n",
    "    print(salario)\n",
    "    print(sexo)\n",
    "    print(est_civil)\n",
    "else:\n",
    "    print(len(nome))"
   ]
  },
  {
   "cell_type": "markdown",
   "metadata": {},
   "source": [
    "#### 4. Supondo que a população de um país A seja da ordem de 80000 habitantes com uma taxa anual de crescimento de 3% e que a população de B seja 200000 habitantes com uma taxa de crescimento de 1.5%. Faça um programa que calcule e escreva o número de anos necessários para que a população do país A ultrapasse ou iguale a população do país B, mantidas as taxas de crescimento."
   ]
  },
  {
   "cell_type": "code",
   "execution_count": 72,
   "metadata": {},
   "outputs": [
    {
     "name": "stdout",
     "output_type": "stream",
     "text": [
      "A quantidade de anos para a populacao_A chegar até a populacao_B é de 63\n"
     ]
    }
   ],
   "source": [
    "populacao_A = 80000\n",
    "taxa_A = 3 / 100\n",
    "populacao_B = 200000\n",
    "taxa_B = 1.5 / 100\n",
    "cont = 0\n",
    "\n",
    "while populacao_A < populacao_B:\n",
    "    crescimento_A =  taxa_A * populacao_A\n",
    "    populacao_A += crescimento_A\n",
    "\n",
    "    crescimento_B = taxa_B * populacao_B\n",
    "    populacao_B += crescimento_B\n",
    "\n",
    "    cont += 1\n",
    "print(f'A quantidade de anos para a populacao_A chegar até a populacao_B é de {cont}')"
   ]
  },
  {
   "cell_type": "markdown",
   "metadata": {},
   "source": [
    "#### 5. Altere o programa anterior permitindo ao usuário informar as populações e as taxas de crescimento iniciais. Valide a entrada e permita repetir a operação."
   ]
  },
  {
   "cell_type": "code",
   "execution_count": 73,
   "metadata": {},
   "outputs": [
    {
     "name": "stdout",
     "output_type": "stream",
     "text": [
      "A quantidade de anos para a populacao_A chegar até a populacao_B é de 220\n"
     ]
    }
   ],
   "source": [
    "populacao_A = 80000\n",
    "taxa_A = 3 / 100\n",
    "populacao_B = 2000000\n",
    "taxa_B = 1.5 / 100\n",
    "cont = 0\n",
    "\n",
    "while populacao_A < populacao_B:\n",
    "    crescimento_A =  taxa_A * populacao_A\n",
    "    populacao_A += crescimento_A\n",
    "\n",
    "    crescimento_B = taxa_B * populacao_B\n",
    "    populacao_B += crescimento_B\n",
    "\n",
    "    cont += 1\n",
    "print(f'A quantidade de anos para a populacao_A chegar até a populacao_B é de {cont}')"
   ]
  },
  {
   "cell_type": "markdown",
   "metadata": {},
   "source": [
    "#### 7. Faça um programa que peça para o usuário inserir o faturamento dos últimos 5 meses (individualmente) e informe o faturamento total (soma) e o faturamento médio por mês (média)."
   ]
  },
  {
   "cell_type": "code",
   "execution_count": 89,
   "metadata": {},
   "outputs": [
    {
     "name": "stdout",
     "output_type": "stream",
     "text": [
      "Faturamento Total 86100.00\n",
      "Faturamento médio 17220.00\n"
     ]
    }
   ],
   "source": [
    "mes = ['Janeiro', 'Fevereiro', 'Março', 'Abril', 'Maio', 'Junho', 'Julho', 'Agosto', 'Setembro', 'Outubro', 'Novembro', 'Dezembro']\n",
    "faturamento = [15000, 25000, 16000, 30000, 9200 , 25000, 12900, 10000, 4200 , 25000, 6900, 40000]\n",
    "total = 0\n",
    "media = 5\n",
    "for i, valor in enumerate(faturamento):\n",
    "    if i >= 7: #Ultimos 05 meses\n",
    "        total += valor\n",
    "print(f'Faturamento Total {total:.2f}')\n",
    "print(f'Faturamento médio {total / media:.2f}')"
   ]
  },
  {
   "cell_type": "markdown",
   "metadata": {},
   "source": [
    "#### 8. Faça um programa que consiga categorizar a idade das equipes de uma empresa. Faça um programa que peça para n pessoas a sua idade, ao final o programa devera verificar se a média de idade da equipe varia entre 0 e 25 (jovem) ,26 e 60 (sênior) e maior que 60 (idosa); e então, dizer se a equipe é jovem, sênior ou idosa, conforme a média calculada."
   ]
  },
  {
   "cell_type": "code",
   "execution_count": 117,
   "metadata": {},
   "outputs": [
    {
     "name": "stdout",
     "output_type": "stream",
     "text": [
      "Jovens -> ['Jaime', 'Maicon', 'Getulio', 'Agusto', 'Osvaldo', 'Noel']\n",
      "Sênior -> ['Fernando', 'Arildo', 'Milque', 'Joao', 'Sergio']\n",
      "Idoso -> ['Diego']\n",
      "Jovens maior\n"
     ]
    }
   ],
   "source": [
    "nomes = ['Jaime', 'Fernando', 'Maicon', 'Arildo', 'Milque', 'Joao', 'Getulio', 'Agusto', 'Sergio', 'Osvaldo', 'Noel', 'Diego']\n",
    "idade = [18, 36, 21, 33, 34 , 39, 24, 23, 42, 18, 19, 69]\n",
    "jovens = []\n",
    "senior = []\n",
    "idoso = []\n",
    "media = 0\n",
    "total = 0\n",
    "\n",
    "for i, idades in enumerate(idade):\n",
    "    if idades > 0 and idades <= 25:\n",
    "        jovens.append(nomes[i])\n",
    "    elif idades >= 26 and idades <= 60:\n",
    "        senior.append(nomes[i])\n",
    "    else:\n",
    "        idoso.append(nomes[i])\n",
    "    media += idades\n",
    "total = (len(idoso) + len(senior) + len(jovens)) / len(nomes)\n",
    "\n",
    "print(f'Jovens -> {jovens}')\n",
    "print(f'Sênior -> {senior}')\n",
    "print(f'Idoso -> {idoso}')\n",
    "\n",
    "if len(idoso) >= (len(senior) + len(jovens)):\n",
    "    print('idoso maior')\n",
    "if len(jovens) >= (len(senior) + len(idoso)):\n",
    "    print('Jovens maior')\n",
    "if len(senior) >=  (len(jovens) + len(idoso)):\n",
    "    print('Senior maior')\n",
    "\n",
    "\n",
    "    "
   ]
  },
  {
   "cell_type": "markdown",
   "metadata": {},
   "source": [
    "#### 9. Numa eleição existem três candidatos. Faça um programa que peça o número total de eleitores. Peça para cada eleitor votar e ao final mostrar o número de votos de cada candidato."
   ]
  },
  {
   "cell_type": "code",
   "execution_count": 178,
   "metadata": {},
   "outputs": [
    {
     "name": "stdout",
     "output_type": "stream",
     "text": [
      "[]\n",
      "[]\n",
      "Os candidatos vencendores são: -> ['Diocel', 'rafael'] com 90\n"
     ]
    }
   ],
   "source": [
    "candidatos = ['walex', 'Rubia', 'Diocel', 'rafael']\n",
    "votos = [16, 90, 90, 90]\n",
    "maior = 0\n",
    "vencedores = []\n",
    "\n",
    "for i, voto in enumerate(votos):\n",
    "    if maior < voto:\n",
    "        maior = voto\n",
    "        vencedores = [candidatos[i]]\n",
    "        print(vencedores)\n",
    "    elif voto == maior:\n",
    "        vencedores.append(candidatos[i])\n",
    "        \n",
    "print(f'Os candidatos vencendores são: -> {vencedores} com {maior}')\n",
    "\n"
   ]
  },
  {
   "cell_type": "markdown",
   "metadata": {},
   "source": [
    "#### 10. Faça um programa que calcule o valor total investido por um colecionador em sua coleção de CDs e o valor médio gasto em cada um deles. O usuário deverá informar a quantidade de CDs e o valor para em cada um."
   ]
  },
  {
   "cell_type": "code",
   "execution_count": null,
   "metadata": {},
   "outputs": [],
   "source": []
  },
  {
   "cell_type": "markdown",
   "metadata": {},
   "source": [
    "#### 11. O Sr. Manoel Joaquim possui uma grande loja de artigos de R\\\\$ 1,99, com cerca de 10 caixas. Para agilizar o cálculo de quanto cada cliente deve pagar ele desenvolveu um tabela que contém o número de itens que o cliente comprou e ao lado o valor da conta. Desta forma a atendente do caixa precisa apenas contar quantos itens o cliente está levando e olhar na tabela de preços. Você foi contratado para desenvolver o programa que monta esta tabela de preços, que conterá os preços de 1 até 50 produtos, conforme o exemplo abaixo:\n",
    "<pre>\n",
    "Lojas Quase Dois - Tabela de preços\n",
    "1 - R$ 1.99\n",
    "2 - R$ 3.98\n",
    "...\n",
    "50 - R$ 99.50\n",
    "</pre>"
   ]
  },
  {
   "cell_type": "code",
   "execution_count": null,
   "metadata": {},
   "outputs": [],
   "source": []
  },
  {
   "cell_type": "markdown",
   "metadata": {},
   "source": [
    "#### 12. Um funcionário de uma empresa recebe aumento salarial anualmente: Sabe-se que:\n",
    "<pre>\n",
    "Esse funcionário foi contratado em 1995, com salário inicial de R$ 1.000,00;\n",
    "Em 1996 recebeu aumento de 1,5% sobre seu salário inicial;\n",
    "A partir de 1997 (inclusive), os aumentos salariais sempre correspondem ao dobro do percentual do ano anterior. Faça um programa que determine o salário desse funcionário em 2003. \n",
    "</pre>"
   ]
  },
  {
   "cell_type": "code",
   "execution_count": null,
   "metadata": {},
   "outputs": [],
   "source": []
  },
  {
   "cell_type": "markdown",
   "metadata": {},
   "source": [
    "#### 13. O cardápio de uma lanchonete é o seguinte:\n",
    "<pre>\n",
    "Especificação   Código  Preço\n",
    "Cachorro Quente 100     R$ 1,20\n",
    "Bauru Simples   101     R$ 1,30\n",
    "Bauru com ovo   102     R$ 1,50\n",
    "Hambúrguer      103     R$ 1,20\n",
    "Cheeseburguer   104     R$ 1,30\n",
    "Refrigerante    105     R$ 1,00\n",
    "Faça um programa que leia o código dos itens pedidos e as quantidades desejadas. Calcule e mostre o valor a ser pago por item (preço * quantidade) e o total geral do pedido. Considere que o cliente deve informar quando o pedido deve ser encerrado.\n",
    "</pre>"
   ]
  },
  {
   "cell_type": "code",
   "execution_count": null,
   "metadata": {},
   "outputs": [],
   "source": []
  },
  {
   "cell_type": "markdown",
   "metadata": {},
   "source": [
    "#### 14. Uma grande emissora de televisão quer fazer uma enquete entre os seus telespectadores para saber qual o melhor jogador após cada jogo. Para isto, faz-se necessário o desenvolvimento de um programa, que será utilizado pelas telefonistas, para a computação dos votos. Sua equipe foi contratada para desenvolver este programa, utilizando a linguagem de programação Python. Para computar cada voto, a telefonista digitará um número, entre 1 e 23, correspondente ao número da camisa do jogador. Um número de jogador igual zero, indica que a votação foi encerrada. Se um número inválido for digitado, o programa deve ignorá-lo, mostrando uma breve mensagem de aviso, e voltando a pedir outro número. Após o final da votação, o programa deverá exibir:\n",
    "<pre>a. O total de votos computados;\n",
    "b. Os números e respectivos votos de todos os jogadores que receberam votos;\n",
    "c. O percentual de votos de cada um destes jogadores;\n",
    "d. O número do jogador escolhido como o melhor jogador da partida, juntamente com o número de votos e o percentual de votos dados a ele.\n",
    "        Observe que os votos inválidos e o zero final não devem ser computados como votos. O resultado aparece ordenado pelo número do jogador. O programa deve fazer uso de arrays. O programa deverá executar o cálculo do percentual de cada jogador através de uma função. Esta função receberá dois parâmetros: o número de votos de um jogador e o total de votos. A função calculará o percentual e retornará o valor calculado. Abaixo segue uma tela de exemplo. O disposição das informações deve ser o mais próxima possível ao exemplo. Os dados são fictícios e podem mudar a cada execução do programa. Ao final, o programa deve ainda gravar os dados referentes ao resultado da votação em um arquivo texto no disco, obedecendo a mesma disposição apresentada na tela.</pre>\n",
    "```\n",
    "Enquete: Quem foi o melhor jogador?\n",
    "\n",
    "Número do jogador (0=fim): 9\n",
    "Número do jogador (0=fim): 10\n",
    "Número do jogador (0=fim): 9\n",
    "Número do jogador (0=fim): 10\n",
    "Número do jogador (0=fim): 11\n",
    "Número do jogador (0=fim): 10\n",
    "Número do jogador (0=fim): 50\n",
    "Informe um valor entre 1 e 23 ou 0 para sair!\n",
    "Número do jogador (0=fim): 9\n",
    "Número do jogador (0=fim): 9\n",
    "Número do jogador (0=fim): 0\n",
    "\n",
    "Resultado da votação:\n",
    "\n",
    "Foram computados 8 votos.\n",
    "\n",
    "Jogador Votos           %\n",
    "9               4               50,0%\n",
    "10              3               37,5%\n",
    "11              1               12,5%\n",
    "``` "
   ]
  }
 ],
 "metadata": {
  "kernelspec": {
   "display_name": "Python 3",
   "language": "python",
   "name": "python3"
  },
  "language_info": {
   "codemirror_mode": {
    "name": "ipython",
    "version": 3
   },
   "file_extension": ".py",
   "mimetype": "text/x-python",
   "name": "python",
   "nbconvert_exporter": "python",
   "pygments_lexer": "ipython3",
   "version": "3.12.2"
  }
 },
 "nbformat": 4,
 "nbformat_minor": 2
}
