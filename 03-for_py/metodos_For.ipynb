{
 "cells": [
  {
   "cell_type": "markdown",
   "metadata": {},
   "source": [
    "#### - For item in lista"
   ]
  },
  {
   "cell_type": "code",
   "execution_count": 12,
   "metadata": {},
   "outputs": [
    {
     "name": "stdout",
     "output_type": "stream",
     "text": [
      "iphone\n",
      "ipad\n",
      "airpod\n",
      "macbook\n",
      "--\n",
      "0: iphone\n",
      "1: ipad\n",
      "2: airpod\n",
      "3: macbook\n"
     ]
    }
   ],
   "source": [
    "produtos = [\"iphone\", \"ipad\", \"airpod\", \"macbook\"]\n",
    "precos = [7000, 10000, 2500, 14000]\n",
    "\n",
    "for produto in produtos:\n",
    "    print(produto)\n",
    "\n",
    "print('--')\n",
    "cont = 0\n",
    "## caso queira força a barra e obter o índice\n",
    "for produto in produtos:\n",
    "    print(f'{cont}: {produto}')\n",
    "    cont += 1"
   ]
  },
  {
   "cell_type": "markdown",
   "metadata": {},
   "source": [
    "#### - For i in range"
   ]
  },
  {
   "cell_type": "code",
   "execution_count": 7,
   "metadata": {},
   "outputs": [
    {
     "name": "stdout",
     "output_type": "stream",
     "text": [
      "iphone\n",
      "ipad\n",
      "airpod\n",
      "macbook\n"
     ]
    }
   ],
   "source": [
    "produtos = [\"iphone\", \"ipad\", \"airpod\", \"macbook\"]\n",
    "precos = [7000, 10000, 2500, 14000]\n",
    "\n",
    "for indice in range(len(produtos)):\n",
    "    print(produtos[indice])"
   ]
  },
  {
   "cell_type": "markdown",
   "metadata": {},
   "source": [
    "#### For item in lista com enumerate"
   ]
  },
  {
   "cell_type": "code",
   "execution_count": 13,
   "metadata": {},
   "outputs": [
    {
     "name": "stdout",
     "output_type": "stream",
     "text": [
      "0: iphone\n",
      "1: ipad\n",
      "2: airpod\n",
      "3: macbook\n"
     ]
    }
   ],
   "source": [
    "produtos = [\"iphone\", \"ipad\", \"airpod\", \"macbook\"]\n",
    "precos = [7000, 10000, 2500, 14000]\n",
    "\n",
    "for indice, produto in enumerate(produtos):\n",
    "    print(f'{indice}: {produto}')"
   ]
  },
  {
   "cell_type": "markdown",
   "metadata": {},
   "source": [
    "#### Array - Listas Duplas\n"
   ]
  },
  {
   "cell_type": "code",
   "execution_count": 19,
   "metadata": {},
   "outputs": [
    {
     "name": "stdout",
     "output_type": "stream",
     "text": [
      "A fabrica Lira Manufacturing tem o estoque 47 abaixo do minimo\n",
      "A fabrica Lira Manufacturing tem o estoque 7 abaixo do minimo\n",
      "A fabrica Fábrica Hashtag tem o estoque 23 abaixo do minimo\n",
      "A fabrica Fábrica Hashtag tem o estoque 42 abaixo do minimo\n",
      "A fabrica Fábrica Hashtag tem o estoque 2 abaixo do minimo\n",
      "A fabrica Python Manufaturas tem o estoque 10 abaixo do minimo\n"
     ]
    }
   ],
   "source": [
    "estoque = [\n",
    "    [294, 125, 269, 208, 783, 852, 259, 371, 47, 102, 386, 87, 685, 686, 697, 941, 163, 631, 7, 714, 218, 670, 453],\n",
    "    [648, 816, 310, 555, 992, 643, 226, 319, 501, 23, 239, 42, 372, 441, 126, 645, 927, 911, 761, 445, 974, 2, 549],\n",
    "    [832, 683, 784, 449, 977, 705, 198, 937, 729, 327, 339, 10, 975, 310, 95, 689, 137, 795, 211, 538, 933, 751, 522],\n",
    "    [837, 168, 570, 397, 53, 297, 966, 714, 72, 737, 259, 629, 625, 469, 922, 305, 782, 243, 841, 848, 372, 621, 362],\n",
    "    [429, 242, 53, 985, 406, 186, 198, 50, 501, 870, 781, 632, 781, 105, 644, 509, 401, 88, 961, 765, 422, 340, 654],\n",
    "]\n",
    "fabricas = ['Lira Manufacturing', 'Fábrica Hashtag', 'Python Manufaturas', 'Produções e Cia', 'Manufatura e Cia']\n",
    "nivel_minimo = 50\n",
    "\n",
    "for i, produto in enumerate(estoque):\n",
    "    # print(f'O estoque da empresa {fabricas[i]} tem um estoque de: {produto}')\n",
    "    for qtd in produto:\n",
    "        if nivel_minimo > qtd:\n",
    "            print(f'A fabrica {fabricas[i]} tem o estoque {qtd} abaixo do minimo')"
   ]
  },
  {
   "cell_type": "markdown",
   "metadata": {},
   "source": [
    "#### Array - Listas Duplas(2)"
   ]
  },
  {
   "cell_type": "code",
   "execution_count": 21,
   "metadata": {},
   "outputs": [
    {
     "name": "stdout",
     "output_type": "stream",
     "text": [
      "['Lira Manufacturing', 'Fábrica Hashtag', 'Python Manufaturas']\n"
     ]
    }
   ],
   "source": [
    "estoque = [\n",
    "    [294, 125, 269, 208, 783, 852, 259, 371, 47, 102, 386, 87, 685, 686, 697, 941, 163, 631, 7, 714, 218, 670, 453],\n",
    "    [648, 816, 310, 555, 992, 643, 226, 319, 501, 23, 239, 42, 372, 441, 126, 645, 927, 911, 761, 445, 974, 2, 549],\n",
    "    [832, 683, 784, 449, 977, 705, 198, 937, 729, 327, 339, 10, 975, 310, 95, 689, 137, 795, 211, 538, 933, 751, 522],\n",
    "    [837, 168, 570, 397, 53, 297, 966, 714, 72, 737, 259, 629, 625, 469, 922, 305, 782, 243, 841, 848, 372, 621, 362],\n",
    "    [429, 242, 53, 985, 406, 186, 198, 50, 501, 870, 781, 632, 781, 105, 644, 509, 401, 88, 961, 765, 422, 340, 654],\n",
    "]\n",
    "fabricas = ['Lira Manufacturing', 'Fábrica Hashtag', 'Python Manufaturas', 'Produções e Cia', 'Manufatura e Cia']\n",
    "fabricas_abaixo = []\n",
    "nivel_minimo = 50\n",
    "\n",
    "for i, produto in enumerate(estoque):\n",
    "    for qtd in produto:\n",
    "        if nivel_minimo > qtd:\n",
    "            if fabricas[i] in fabricas_abaixo:\n",
    "                pass\n",
    "            else:\n",
    "                fabricas_abaixo.append(fabricas[i])\n",
    "print(fabricas_abaixo)"
   ]
  },
  {
   "cell_type": "markdown",
   "metadata": {},
   "source": [
    "#### Array - Listas Duplas(3)"
   ]
  },
  {
   "cell_type": "code",
   "execution_count": 42,
   "metadata": {},
   "outputs": [
    {
     "name": "stdout",
     "output_type": "stream",
     "text": [
      "Maior airpod : 25000\n",
      "Menor iphone : 7000\n"
     ]
    }
   ],
   "source": [
    "produtos = [\"iphone\", \"ipad\", \"airpod\", \"macbook\"]\n",
    "precos = [ 7000, 10000, 25000, 14000]\n",
    "\n",
    "produto = ''\n",
    "produtoMe = ''\n",
    "maior = 0\n",
    "menor = 0\n",
    "\n",
    "for i, preco in enumerate(precos):\n",
    "    if preco > maior:\n",
    "        maior = preco\n",
    "        produto = produtos[i]\n",
    "    if preco > menor and menor == 0:\n",
    "        menor = preco\n",
    "        produtoMe = produtos[i]\n",
    "    elif preco < menor:\n",
    "        menor = preco\n",
    "        produtoMe = produtos[i]\n",
    "\n",
    "print(f'Maior {produto} : {maior}')\n",
    "print(f'Menor {produtoMe} : {menor}')\n",
    "\n"
   ]
  },
  {
   "cell_type": "markdown",
   "metadata": {},
   "source": [
    "#### - Break / Continue"
   ]
  },
  {
   "cell_type": "code",
   "execution_count": 54,
   "metadata": {},
   "outputs": [
    {
     "name": "stdout",
     "output_type": "stream",
     "text": [
      "A loja ganha bônus\n",
      "---- -----\n",
      "A loja ganha bônus\n",
      "150\n",
      "1500\n",
      "2000\n",
      "120\n"
     ]
    }
   ],
   "source": [
    "vendas = [100, 150, 1500, 2000, 120]\n",
    "\n",
    "for venda in vendas:\n",
    "    if venda < 110:\n",
    "        print('A loja ganha bônus')\n",
    "        break \n",
    "    print(venda)\n",
    "\n",
    "print('---- -----')\n",
    "\n",
    "for venda in vendas:\n",
    "    if venda < 110:\n",
    "        print('A loja ganha bônus')\n",
    "        continue \n",
    "    print(venda)"
   ]
  },
  {
   "cell_type": "code",
   "execution_count": 20,
   "metadata": {},
   "outputs": [
    {
     "name": "stdout",
     "output_type": "stream",
     "text": [
      "Top 3°: [14000, 10000, 7000]\n",
      "Rebaixamento: [2500, 800]\n"
     ]
    }
   ],
   "source": [
    "produtos = [\"iphone\", \"ipad\", \"airpod\", \"macbook\", \"celular\"]\n",
    "precos = [7000, 10000, 2500, 14000, 800]\n",
    "rank = []\n",
    "cont = 0\n",
    "\n",
    "while cont < 3:\n",
    "    maior = 0\n",
    "    for preco in precos:\n",
    "        if preco > maior:\n",
    "            maior = preco\n",
    "    rank.append(maior)\n",
    "    precos.remove(maior)\n",
    "    cont += 1\n",
    "\n",
    "print(f'Top 3°: {rank}')\n",
    "print(f'Rebaixamento: {precos}')\n",
    "\n"
   ]
  },
  {
   "cell_type": "code",
   "execution_count": null,
   "metadata": {},
   "outputs": [],
   "source": [
    "meta = 10000\n",
    "vendas = [\n",
    "    ['João', 15000],\n",
    "    ['Julia', 27000],\n",
    "    ['Marcus', 9900],\n",
    "    ['Maria', 3750],\n",
    "    ['Ana', 10300],\n",
    "    ['Alon', 7870],\n",
    "]\n",
    "#seu código aqui\n",
    "for item in vendas:\n",
    "    if item[1] >= meta:\n",
    "        print('Vendedor {} bateu a meta. Fez {} vendas'.format(item[0], item[1]))"
   ]
  }
 ],
 "metadata": {
  "kernelspec": {
   "display_name": "Python 3",
   "language": "python",
   "name": "python3"
  },
  "language_info": {
   "codemirror_mode": {
    "name": "ipython",
    "version": 3
   },
   "file_extension": ".py",
   "mimetype": "text/x-python",
   "name": "python",
   "nbconvert_exporter": "python",
   "pygments_lexer": "ipython3",
   "version": "3.12.2"
  }
 },
 "nbformat": 4,
 "nbformat_minor": 2
}
