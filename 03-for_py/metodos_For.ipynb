{
 "cells": [
  {
   "cell_type": "markdown",
   "metadata": {},
   "source": [
    "#### - For item in lista"
   ]
  },
  {
   "cell_type": "code",
   "execution_count": 12,
   "metadata": {},
   "outputs": [
    {
     "name": "stdout",
     "output_type": "stream",
     "text": [
      "iphone\n",
      "ipad\n",
      "airpod\n",
      "macbook\n",
      "--\n",
      "0: iphone\n",
      "1: ipad\n",
      "2: airpod\n",
      "3: macbook\n"
     ]
    }
   ],
   "source": [
    "produtos = [\"iphone\", \"ipad\", \"airpod\", \"macbook\"]\n",
    "precos = [7000, 10000, 2500, 14000]\n",
    "\n",
    "for produto in produtos:\n",
    "    print(produto)\n",
    "\n",
    "print('--')\n",
    "cont = 0\n",
    "## caso queira força a barra e obter o índice\n",
    "for produto in produtos:\n",
    "    print(f'{cont}: {produto}')\n",
    "    cont += 1"
   ]
  },
  {
   "cell_type": "markdown",
   "metadata": {},
   "source": [
    "#### - For i in range"
   ]
  },
  {
   "cell_type": "code",
   "execution_count": 7,
   "metadata": {},
   "outputs": [
    {
     "name": "stdout",
     "output_type": "stream",
     "text": [
      "iphone\n",
      "ipad\n",
      "airpod\n",
      "macbook\n"
     ]
    }
   ],
   "source": [
    "produtos = [\"iphone\", \"ipad\", \"airpod\", \"macbook\"]\n",
    "precos = [7000, 10000, 2500, 14000]\n",
    "\n",
    "for indice in range(len(produtos)):\n",
    "    print(produtos[indice])"
   ]
  },
  {
   "cell_type": "markdown",
   "metadata": {},
   "source": [
    "#### For item in lista com enumerate"
   ]
  },
  {
   "cell_type": "code",
   "execution_count": 13,
   "metadata": {},
   "outputs": [
    {
     "name": "stdout",
     "output_type": "stream",
     "text": [
      "0: iphone\n",
      "1: ipad\n",
      "2: airpod\n",
      "3: macbook\n"
     ]
    }
   ],
   "source": [
    "produtos = [\"iphone\", \"ipad\", \"airpod\", \"macbook\"]\n",
    "precos = [7000, 10000, 2500, 14000]\n",
    "\n",
    "for indice, produto in enumerate(produtos):\n",
    "    print(f'{indice}: {produto}')"
   ]
  }
 ],
 "metadata": {
  "kernelspec": {
   "display_name": "Python 3",
   "language": "python",
   "name": "python3"
  },
  "language_info": {
   "codemirror_mode": {
    "name": "ipython",
    "version": 3
   },
   "file_extension": ".py",
   "mimetype": "text/x-python",
   "name": "python",
   "nbconvert_exporter": "python",
   "pygments_lexer": "ipython3",
   "version": "3.12.2"
  }
 },
 "nbformat": 4,
 "nbformat_minor": 2
}
