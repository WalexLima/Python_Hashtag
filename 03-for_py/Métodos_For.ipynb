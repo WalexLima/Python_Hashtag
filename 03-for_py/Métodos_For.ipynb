{
 "cells": [
  {
   "cell_type": "markdown",
   "metadata": {},
   "source": [
    "### Uso Básico do for Loop"
   ]
  },
  {
   "cell_type": "markdown",
   "metadata": {},
   "source": [
    "    Iterando sobre uma lista:"
   ]
  },
  {
   "cell_type": "code",
   "execution_count": 10,
   "metadata": {},
   "outputs": [
    {
     "name": "stdout",
     "output_type": "stream",
     "text": [
      "1\n",
      "2\n"
     ]
    }
   ],
   "source": [
    "lista = [1, 2]\n",
    "for item in lista:\n",
    "    print(item)\n"
   ]
  },
  {
   "cell_type": "markdown",
   "metadata": {},
   "source": [
    "    Iterando sobre uma lista:"
   ]
  },
  {
   "cell_type": "code",
   "execution_count": 4,
   "metadata": {},
   "outputs": [
    {
     "name": "stdout",
     "output_type": "stream",
     "text": [
      "O\n",
      "l\n",
      "á\n"
     ]
    }
   ],
   "source": [
    "string = \"Olá\"\n",
    "for char in string:\n",
    "    print(char)"
   ]
  },
  {
   "cell_type": "markdown",
   "metadata": {},
   "source": [
    "    Iterando sobre uma tupla:"
   ]
  },
  {
   "cell_type": "code",
   "execution_count": 11,
   "metadata": {},
   "outputs": [
    {
     "name": "stdout",
     "output_type": "stream",
     "text": [
      "1\n",
      "2\n"
     ]
    }
   ],
   "source": [
    "tupla = (1, 2)\n",
    "for item in tupla:\n",
    "    print(item)"
   ]
  },
  {
   "cell_type": "markdown",
   "metadata": {},
   "source": [
    "    Iterando sobre um conjunto:"
   ]
  },
  {
   "cell_type": "code",
   "execution_count": 12,
   "metadata": {},
   "outputs": [
    {
     "name": "stdout",
     "output_type": "stream",
     "text": [
      "1\n",
      "2\n"
     ]
    }
   ],
   "source": [
    "conjunto = {1, 2}\n",
    "for item in conjunto:\n",
    "    print(item)"
   ]
  },
  {
   "cell_type": "markdown",
   "metadata": {},
   "source": [
    "    Iterando sobre um dicionário:"
   ]
  },
  {
   "cell_type": "code",
   "execution_count": 13,
   "metadata": {},
   "outputs": [
    {
     "name": "stdout",
     "output_type": "stream",
     "text": [
      "a\n",
      "b\n",
      "c\n",
      "1\n",
      "2\n",
      "3\n",
      "Chave: a, Valor: 1\n",
      "Chave: b, Valor: 2\n",
      "Chave: c, Valor: 3\n"
     ]
    }
   ],
   "source": [
    "dicionario = {'a': 1, 'b': 2, 'c': 3}\n",
    "for chave in dicionario:\n",
    "    print(chave)\n",
    "\n",
    "dicionario = {'a': 1, 'b': 2, 'c': 3}\n",
    "for valor in dicionario.values():\n",
    "    print(valor)\n",
    "\n",
    "dicionario = {'a': 1, 'b': 2, 'c': 3}\n",
    "for chave, valor in dicionario.items():\n",
    "    print(f\"Chave: {chave}, Valor: {valor}\")\n"
   ]
  },
  {
   "cell_type": "markdown",
   "metadata": {},
   "source": [
    "    Usando range() com for"
   ]
  },
  {
   "cell_type": "code",
   "execution_count": null,
   "metadata": {},
   "outputs": [],
   "source": [
    "for i in range(5):\n",
    "    print(i)  # Saída: 0, 1, 2, 3, 4\n",
    "\n",
    "for i in range(1, 6):\n",
    "    print(i)  # Saída: 1, 2, 3, 4, 5\n",
    "\n",
    "for i in range(0, 10, 2):\n",
    "    print(i)  # Saída: 0, 2, 4, 6, 8"
   ]
  },
  {
   "cell_type": "markdown",
   "metadata": {},
   "source": [
    "    Usando enumerate() com for  "
   ]
  },
  {
   "cell_type": "code",
   "execution_count": 17,
   "metadata": {},
   "outputs": [
    {
     "name": "stdout",
     "output_type": "stream",
     "text": [
      "Índice: 0, Item: a\n",
      "Índice: 1, Item: b\n",
      "Índice: 2, Item: c\n",
      "Índice: 0, Item: a\n",
      "Índice: 1, Item: b\n",
      "Índice: 2, Item: c\n"
     ]
    }
   ],
   "source": [
    "lista = ['a', 'b', 'c']\n",
    "for index, item in enumerate(lista):\n",
    "    print(f\"Índice: {index}, Item: {item}\")\n",
    "    \n",
    "lista = ['a', 'b', 'c']\n",
    "for index, item in enumerate(lista):\n",
    "    print(f\"Índice: {index}, Item: {item}\")"
   ]
  },
  {
   "cell_type": "markdown",
   "metadata": {},
   "source": [
    "    Usando zip() com for\n",
    "    O zip() combina duas ou mais sequências em pares de elementos correspondentes."
   ]
  },
  {
   "cell_type": "code",
   "execution_count": 18,
   "metadata": {},
   "outputs": [
    {
     "name": "stdout",
     "output_type": "stream",
     "text": [
      "Item 1: 1, Item 2: a\n",
      "Item 1: 2, Item 2: b\n",
      "Item 1: 3, Item 2: c\n"
     ]
    }
   ],
   "source": [
    "lista1 = [1, 2, 3]\n",
    "lista2 = ['a', 'b', 'c']\n",
    "for item1, item2 in zip(lista1, lista2):\n",
    "    print(f\"Item 1: {item1}, Item 2: {item2}\")\n"
   ]
  },
  {
   "cell_type": "markdown",
   "metadata": {},
   "source": [
    "    Iterando sobre uma lista de listas:"
   ]
  },
  {
   "cell_type": "code",
   "execution_count": 21,
   "metadata": {},
   "outputs": [
    {
     "name": "stdout",
     "output_type": "stream",
     "text": [
      "1\n",
      "2\n",
      "3\n",
      "4\n",
      "5\n",
      "6\n"
     ]
    }
   ],
   "source": [
    "listas = [[1, 2, 3], [4, 5, 6]]\n",
    "for sublista in listas:\n",
    "    for item in sublista:\n",
    "        print(item)"
   ]
  },
  {
   "cell_type": "markdown",
   "metadata": {},
   "source": [
    "    Interrompendo a iteração com break:\n",
    "    Pulando uma iteração com continue:"
   ]
  },
  {
   "cell_type": "code",
   "execution_count": 23,
   "metadata": {},
   "outputs": [
    {
     "name": "stdout",
     "output_type": "stream",
     "text": [
      "1° => 0\n",
      "1° => 1\n",
      "1° => 2\n",
      "1° => 3\n",
      "1° => 4\n",
      "2° => 1\n",
      "2° => 3\n",
      "2° => 5\n",
      "2° => 7\n",
      "2° => 9\n"
     ]
    }
   ],
   "source": [
    "for i in range(10):\n",
    "    if i == 5:\n",
    "        break\n",
    "    print(f'1° => {i}')  # Saída: 0, 1, 2, 3, 4\n",
    "\n",
    "for i in range(10):\n",
    "    if i % 2 == 0:\n",
    "        continue\n",
    "    print(f'2° => {i}')  # Saída: 1, 3, 5, 7, 9\n"
   ]
  },
  {
   "cell_type": "markdown",
   "metadata": {},
   "source": [
    "    For i in range"
   ]
  },
  {
   "cell_type": "code",
   "execution_count": 24,
   "metadata": {},
   "outputs": [
    {
     "name": "stdout",
     "output_type": "stream",
     "text": [
      "iphone\n",
      "ipad\n",
      "airpod\n",
      "macbook\n"
     ]
    }
   ],
   "source": [
    "produtos = [\"iphone\", \"ipad\", \"airpod\", \"macbook\"]\n",
    "precos = [7000, 10000, 2500, 14000]\n",
    "\n",
    "for indice in range(len(produtos)):\n",
    "    print(produtos[indice])"
   ]
  },
  {
   "cell_type": "markdown",
   "metadata": {},
   "source": [
    "    For item in lista com enumerate"
   ]
  },
  {
   "cell_type": "code",
   "execution_count": 25,
   "metadata": {},
   "outputs": [
    {
     "name": "stdout",
     "output_type": "stream",
     "text": [
      "0: iphone\n",
      "1: ipad\n",
      "2: airpod\n",
      "3: macbook\n"
     ]
    }
   ],
   "source": [
    "produtos = [\"iphone\", \"ipad\", \"airpod\", \"macbook\"]\n",
    "precos = [7000, 10000, 2500, 14000]\n",
    "\n",
    "for indice, produto in enumerate(produtos):\n",
    "    print(f'{indice}: {produto}')"
   ]
  }
 ],
 "metadata": {
  "kernelspec": {
   "display_name": "Python 3",
   "language": "python",
   "name": "python3"
  },
  "language_info": {
   "codemirror_mode": {
    "name": "ipython",
    "version": 3
   },
   "file_extension": ".py",
   "mimetype": "text/x-python",
   "name": "python",
   "nbconvert_exporter": "python",
   "pygments_lexer": "ipython3",
   "version": "3.12.2"
  }
 },
 "nbformat": 4,
 "nbformat_minor": 2
}
