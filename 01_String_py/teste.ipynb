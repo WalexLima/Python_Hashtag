{
 "cells": [
  {
   "cell_type": "markdown",
   "metadata": {},
   "source": [
    "#### Crie um programa para cadastro de CPF em input box apenas com números.\n",
    "\n",
    "- Exemplo o CPF tem que ter apenas números\n",
    "\n",
    "- Caso o usuário digite algo diferente de números ou digite um número menor que 11. O programa ira mostrar uma msg\n",
    "- MSG: \"Digite seu CPF corretamente e digite apenas números.\""
   ]
  },
  {
   "cell_type": "code",
   "execution_count": 1,
   "metadata": {},
   "outputs": [
    {
     "name": "stdout",
     "output_type": "stream",
     "text": [
      "25623251125\n",
      "Validação 01°: CPF valido.\n",
      "Validação 02°: CPF valido.\n"
     ]
    }
   ],
   "source": [
    "import re\n",
    "cpf = '256.232.511-25'\n",
    "\n",
    "cpf = cpf.replace('.', '')\n",
    "cpf = cpf.replace('-', '')\n",
    "cpf = cpf.strip()\n",
    "cpfp = re.sub(r\"\\s+\", \"\", cpf)\n",
    "print(cpfp)\n",
    "## Validação 01°\n",
    "\n",
    "if 11 == len(cpfp) and cpfp.isnumeric() == True :\n",
    "    print('Validação 01°: CPF valido.')\n",
    "else:\n",
    "    print('Validação 01°: Digite seu CPF corretamente e digite apenas números')\n",
    "\n",
    "## Validação 02°\n",
    "\n",
    "if len(cpfp) != 11 and len(cpfp) > 11 and cpfp.isnumeric() == True:\n",
    "    print(f'Validação 02°: CPF Está acima de 11 ele tem \"{len(cpf)}\" o correto é ter \"11\".')\n",
    "elif len(cpfp) != 11 and len(cpfp) < 11 and cpfp.isnumeric() == True:\n",
    "    print(f'Validação 02°: CPF com apenas {len(cpfp)} o correto é ter \"11\".')\n",
    "elif cpfp.isnumeric() != True:\n",
    "    print(f'Validação 02°: CPF possui algum tipo de caracter que não é número. Getileza verificar!')\n",
    "else:\n",
    "    print('Validação 02°: CPF valido.')"
   ]
  },
  {
   "cell_type": "markdown",
   "metadata": {},
   "source": [
    "#### A Hashtag sempre se comunica com seus clientes por e-mail. Para isso, a gente tem em cada página um cadastro de nome e e-mail. Nesse cadastro, nosso sistema verifica se o e-mail que a pessoa inseriu é um e-mail válido, verificando se ele tem '@' e se depois do '@' tem algum ponto, afinal:\n",
    "\n",
    "- walexgmail.com NÃO é um e-mail válido\n",
    "- walex@gmail NÃO é um e-mail válido\n",
    "- walex@gmail.com é um e-mail válido"
   ]
  },
  {
   "cell_type": "code",
   "execution_count": 76,
   "metadata": {},
   "outputs": [
    {
     "name": "stdout",
     "output_type": "stream",
     "text": [
      "Metodo 1°: E-mail é valido\n",
      "Metodo 2°: E-mail é valido\n",
      "Metodo 3°: E-mail é valido\n",
      "@\n",
      "Metodo 4°: E-mail é valido\n"
     ]
    }
   ],
   "source": [
    "email = 'walex@hotmail.com'\n",
    "email_gmail = email.endswith('@hotmail.com')\n",
    "email_hotmail = email.endswith('@gmail.com')\n",
    "\n",
    "##1° Metodo\n",
    "if email_gmail == True:\n",
    "    print('Metodo 1°: E-mail é valido')\n",
    "elif email_hotmail == True:\n",
    "    print('Metodo 1°: E-mail é valido')\n",
    "else:\n",
    "    print('Metodo 1°: Email Invalido')\n",
    "\n",
    "##2° Metodo\n",
    "if email_gmail == True or email_hotmail == True:\n",
    "    print('Metodo 2°: E-mail é valido')\n",
    "else:\n",
    "    print('Metodo 2°: Email Invalido')\n",
    "\n",
    "##Metodo 3° lembrando que esse só procura o @, então se tiver @gtssee.com ele vai da ok\n",
    "email_ = email.find('@')\n",
    "if email_ > 0:\n",
    "    print('Metodo 3°: E-mail é valido')\n",
    "else:\n",
    "    print('Metodo 3°: Email Invalido')\n",
    "\n",
    "##Metodo 4° nesse caso eu pego o caracter apartir do @ e depois verifico se tem \".\"\n",
    "if email:\n",
    "    pos_a = email.find('@')\n",
    "    apartir_a = email[pos_a:]\n",
    "    if pos_a != -1 and '.' in apartir_a:\n",
    "        print('Metodo 4°: E-mail é valido')\n",
    "    else:\n",
    "        print('Metodo 4°: E-mail é invalido')\n",
    "else:\n",
    "    print('Getileza verificar!')\n"
   ]
  },
  {
   "cell_type": "markdown",
   "metadata": {},
   "source": [
    "#### 1. Tamanho de strings. Faça um programa que leia 2 strings e informe o conteúdo delas seguido do seu comprimento. Informe também se as duas strings possuem o mesmo comprimento e são iguais ou diferentes no conteúdo.\n",
    "<pre>\n",
    "Compara duas strings\n",
    "String 1: Brasil Hexa 2006\n",
    "String 2: Brasil! Hexa 2006!\n",
    "Tamanho de \"Brasil Hexa 2006\": 16 caracteres\n",
    "Tamanho de \"Brasil! Hexa 2006!\": 18 caracteres\n",
    "As duas strings são de tamanhos diferentes.\n",
    "As duas strings possuem conteúdo diferente.\n",
    "</pre>"
   ]
  },
  {
   "cell_type": "code",
   "execution_count": 83,
   "metadata": {},
   "outputs": [
    {
     "name": "stdout",
     "output_type": "stream",
     "text": [
      "Metodo 01: Tamanho da \"Brasil Hexa 2006\" 16 caracteres\n",
      "Metodo 01: Tamanho da \"Brasil! Hexa 2006!\" 18 caracteres\n",
      "Metodo 01: As duas strings são de tamanhos diferentes\n",
      "Compara duas strings\n"
     ]
    }
   ],
   "source": [
    "## Metodo 01°\n",
    "string1 = 'Brasil Hexa 2006'\n",
    "string2 = 'Brasil! Hexa 2006!'\n",
    "\n",
    "print(f'Metodo 01: Tamanho da \"{string1}\" {len(string1)} caracteres')\n",
    "print(f'Metodo 01: Tamanho da \"{string2}\" {len(string2)} caracteres')\n",
    "\n",
    "if len(string1) == len(string2):\n",
    "    print(f'Metodo 01: As strings são iguai')\n",
    "else:\n",
    "    print('Metodo 01: As duas strings são de tamanhos diferentes') \n",
    "\n"
   ]
  },
  {
   "cell_type": "markdown",
   "metadata": {},
   "source": [
    "#### 2. Valida e corrige número de telefone. Faça um programa que leia um número de telefone, e corrija o número no caso deste conter somente 7 dígitos, acrescentando o '3' na frente. O usuário pode informar o número com ou sem o traço separador.\n",
    "<pre>\n",
    "Valida e corrige número de telefone\n",
    "Telefone: 461-0133\n",
    "Telefone possui 7 dígitos. Vou acrescentar o digito três na frente.\n",
    "Telefone corrigido sem formatação: 34610133\n",
    "Telefone corrigido com formatação: 3461-0133\n",
    "</pre>"
   ]
  },
  {
   "cell_type": "code",
   "execution_count": 6,
   "metadata": {},
   "outputs": [
    {
     "name": "stdout",
     "output_type": "stream",
     "text": [
      "Telefone possui 7 dígitos. Vou acrescentar o digito três na frente.\n",
      "Telefone corrigido sem formatação: 33341212\n",
      "Telefone corrigido com formatação: 3334-1212\n"
     ]
    }
   ],
   "source": [
    "tel = '3341212'\n",
    "tel = tel.replace('-', '')\n",
    "if len(tel) == 7:\n",
    "    print('Telefone possui 7 dígitos. Vou acrescentar o digito três na frente.')\n",
    "    tel = '3' + tel\n",
    "    print(f'Telefone corrigido sem formatação: {tel}')\n",
    "    print(f'Telefone corrigido com formatação: {tel[:4]}-{tel[4:]}')\n",
    "else:\n",
    "    print('O telefone não tem 7 dígitos.')"
   ]
  }
 ],
 "metadata": {
  "kernelspec": {
   "display_name": "Python 3",
   "language": "python",
   "name": "python3"
  },
  "language_info": {
   "codemirror_mode": {
    "name": "ipython",
    "version": 3
   },
   "file_extension": ".py",
   "mimetype": "text/x-python",
   "name": "python",
   "nbconvert_exporter": "python",
   "pygments_lexer": "ipython3",
   "version": "3.12.2"
  }
 },
 "nbformat": 4,
 "nbformat_minor": 2
}
