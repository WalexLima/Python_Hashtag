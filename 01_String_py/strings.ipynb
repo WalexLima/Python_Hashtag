{
 "cells": [
  {
   "cell_type": "markdown",
   "metadata": {},
   "source": [
    "#### capitalize() -> Coloca a 1ª letra Maiúscula\n"
   ]
  },
  {
   "cell_type": "markdown",
   "metadata": {},
   "source": []
  },
  {
   "cell_type": "code",
   "execution_count": 6,
   "metadata": {},
   "outputs": [
    {
     "name": "stdout",
     "output_type": "stream",
     "text": [
      "Walex barbosa\n"
     ]
    }
   ],
   "source": [
    "texto = 'walex barbosa'\n",
    "nome = texto.capitalize()\n",
    "print(nome)"
   ]
  },
  {
   "cell_type": "markdown",
   "metadata": {},
   "source": [
    "#### casefold() -> Transforma todas as letras em minúsculas (existe lower() mas o casefold é melhor normalmente)"
   ]
  },
  {
   "cell_type": "code",
   "execution_count": 7,
   "metadata": {},
   "outputs": [
    {
     "name": "stdout",
     "output_type": "stream",
     "text": [
      "walex barbosa\n"
     ]
    }
   ],
   "source": [
    "texto = 'WALEX BARBOSA'\n",
    "nome = texto.casefold()\n",
    "print(nome)"
   ]
  },
  {
   "cell_type": "markdown",
   "metadata": {},
   "source": [
    "#### count()\\t-> Quantidade de vezes que um valor aparece na string"
   ]
  },
  {
   "cell_type": "code",
   "execution_count": 39,
   "metadata": {},
   "outputs": [
    {
     "name": "stdout",
     "output_type": "stream",
     "text": [
      "1\n"
     ]
    }
   ],
   "source": [
    "texto = ['WALEX BARBOSA', 'RAFAEL BARBOSA']\n",
    "nome = texto.count('WALEX BARBOSA')\n",
    "print(nome)"
   ]
  },
  {
   "cell_type": "markdown",
   "metadata": {},
   "source": [
    "#### endswith() -> Verifica se o texto termina com um valor específico e dá como resposta True ou False"
   ]
  },
  {
   "cell_type": "code",
   "execution_count": 37,
   "metadata": {},
   "outputs": [
    {
     "name": "stdout",
     "output_type": "stream",
     "text": [
      "O texto termina com @gmail: True\n"
     ]
    }
   ],
   "source": [
    "texto = 'walex@gmail'\n",
    "nome = texto.endswith('@gmail')\n",
    "print(f'O texto termina com @gmail: {nome}')"
   ]
  },
  {
   "cell_type": "markdown",
   "metadata": {},
   "source": [
    "#### find() -> Procura um texto dentro de outro texto e dá como resposta a posição do texto encontradonn"
   ]
  },
  {
   "cell_type": "code",
   "execution_count": 38,
   "metadata": {},
   "outputs": [
    {
     "name": "stdout",
     "output_type": "stream",
     "text": [
      "Existe a letra \"a\" dentro do texto: 1\n"
     ]
    }
   ],
   "source": [
    "texto = 'walex@gmail'\n",
    "nome = texto.find('a')\n",
    "print(f'Existe a letra \"a\" dentro do texto: {nome}')"
   ]
  },
  {
   "cell_type": "markdown",
   "metadata": {},
   "source": [
    "#### isalnum() -> Verifica se um texto é todo feito com caracteres alfanuméricos (letras e números) -> letras com acento ou ç são considerados letras para essa função."
   ]
  },
  {
   "cell_type": "code",
   "execution_count": 46,
   "metadata": {},
   "outputs": [
    {
     "name": "stdout",
     "output_type": "stream",
     "text": [
      "True\n"
     ]
    }
   ],
   "source": [
    "texto = 'walex123'\n",
    "nome = texto.isalnum()\n",
    "print(f'{nome}')"
   ]
  },
  {
   "cell_type": "markdown",
   "metadata": {},
   "source": [
    "#### isalpha() -> Verifica se um texto é todo feito de letras."
   ]
  },
  {
   "cell_type": "code",
   "execution_count": 50,
   "metadata": {},
   "outputs": [
    {
     "name": "stdout",
     "output_type": "stream",
     "text": [
      "True\n"
     ]
    }
   ],
   "source": [
    "texto = 'walex'\n",
    "nome = texto.isalpha()\n",
    "print(f'{nome}')"
   ]
  },
  {
   "cell_type": "markdown",
   "metadata": {},
   "source": [
    "#### isnumeric()\\t-> Verifica se um texto é todo feito por números.\n",
    "### Obs: existem os métodos isdigit() e isdecimal() que tem variações pontuais em caracteres especiais tipo textos com frações e potências, mas para 99% dos casos eles não vão ser necessários.\""
   ]
  },
  {
   "cell_type": "code",
   "execution_count": 55,
   "metadata": {},
   "outputs": [
    {
     "name": "stdout",
     "output_type": "stream",
     "text": [
      "True\n"
     ]
    }
   ],
   "source": [
    "texto = '123'\n",
    "nome = texto.isnumeric()\n",
    "print(f'{nome}')"
   ]
  },
  {
   "cell_type": "markdown",
   "metadata": {},
   "source": [
    "#### replace() -> Substitui um texto por um outro texto em uma string."
   ]
  },
  {
   "cell_type": "code",
   "execution_count": 62,
   "metadata": {},
   "outputs": [
    {
     "name": "stdout",
     "output_type": "stream",
     "text": [
      "walex barbosa 1 2 3\n"
     ]
    }
   ],
   "source": [
    "texto = 'walex,barbosa,1,2,3'\n",
    "nome = texto.replace(',', ' ')\n",
    "print(f'{nome}')"
   ]
  },
  {
   "cell_type": "markdown",
   "metadata": {},
   "source": [
    "#### split()\\t-> Separa uma string de acordo com um delimitador em vários textos diferentes."
   ]
  },
  {
   "cell_type": "code",
   "execution_count": 63,
   "metadata": {},
   "outputs": [
    {
     "name": "stdout",
     "output_type": "stream",
     "text": [
      "['walex', 'barbosa', '1', '2', '3']\n"
     ]
    }
   ],
   "source": [
    "texto = 'walex,barbosa,1,2,3'\n",
    "nome = texto.split(',')\n",
    "print(f'{nome}')"
   ]
  },
  {
   "cell_type": "markdown",
   "metadata": {},
   "source": [
    "#### splitlines() -> separa um texto em vários textos de acordo com os \\\"enters\\\" do texto"
   ]
  },
  {
   "cell_type": "code",
   "execution_count": 93,
   "metadata": {},
   "outputs": [
    {
     "name": "stdout",
     "output_type": "stream",
     "text": [
      "['Olá, bom dia,']\n"
     ]
    }
   ],
   "source": [
    "texto = '''Olá, bom dia,'''\n",
    "frase = texto.splitlines()\n",
    "print(f'{frase}')"
   ]
  },
  {
   "cell_type": "markdown",
   "metadata": {},
   "source": [
    "#### startswith() -> Verifica se a string começa com determinado texto"
   ]
  },
  {
   "cell_type": "code",
   "execution_count": 79,
   "metadata": {},
   "outputs": [
    {
     "name": "stdout",
     "output_type": "stream",
     "text": [
      "True\n"
     ]
    }
   ],
   "source": [
    "texto = 'BEB123453'\n",
    "nome = texto.startswith('BEB')\n",
    "print(f'{nome}')"
   ]
  },
  {
   "cell_type": "markdown",
   "metadata": {},
   "source": [
    "#### strip()\\t-> Retira caracteres indesejados dos textos. Por padrão, retira espaços \\\"extras\\\" no início e no final"
   ]
  },
  {
   "cell_type": "code",
   "execution_count": 84,
   "metadata": {},
   "outputs": [
    {
     "name": "stdout",
     "output_type": "stream",
     "text": [
      "walex barbosa\n"
     ]
    }
   ],
   "source": [
    "texto = ' walex barbosa '\n",
    "nome = texto.strip()\n",
    "print(f'{nome}')"
   ]
  },
  {
   "cell_type": "markdown",
   "metadata": {},
   "source": [
    "#### title() -> Coloca a 1ª letra de cada palavra em maiúscula"
   ]
  },
  {
   "cell_type": "code",
   "execution_count": 85,
   "metadata": {},
   "outputs": [
    {
     "name": "stdout",
     "output_type": "stream",
     "text": [
      "Walex Barbosa Torres\n"
     ]
    }
   ],
   "source": [
    "texto = 'walex barbosa torres'\n",
    "nome = texto.title()\n",
    "print(f'{nome}')"
   ]
  },
  {
   "cell_type": "markdown",
   "metadata": {},
   "source": [
    "#### upper()\\t-> Coloca o texto todo em letra maiúscula\""
   ]
  },
  {
   "cell_type": "code",
   "execution_count": 87,
   "metadata": {},
   "outputs": [
    {
     "name": "stdout",
     "output_type": "stream",
     "text": [
      "BEB1234\n"
     ]
    }
   ],
   "source": [
    "texto = 'beb1234'\n",
    "nome = texto.upper()\n",
    "print(f'{nome}')"
   ]
  },
  {
   "cell_type": "markdown",
   "metadata": {},
   "source": [
    "#### substituir múltiplos espaços consecutivos por apenas um espaço"
   ]
  },
  {
   "cell_type": "code",
   "execution_count": 30,
   "metadata": {},
   "outputs": [
    {
     "name": "stdout",
     "output_type": "stream",
     "text": [
      "walex placa barbosa\n"
     ]
    }
   ],
   "source": [
    "import re\n",
    "\n",
    "texto = \"walex  placa     barbosa\"\n",
    "texto_sem_espacos_extras = re.sub(r\"\\s+\", \" \", texto)\n",
    "print(texto_sem_espacos_extras)"
   ]
  }
 ],
 "metadata": {
  "kernelspec": {
   "display_name": "Python 3",
   "language": "python",
   "name": "python3"
  },
  "language_info": {
   "codemirror_mode": {
    "name": "ipython",
    "version": 3
   },
   "file_extension": ".py",
   "mimetype": "text/x-python",
   "name": "python",
   "nbconvert_exporter": "python",
   "pygments_lexer": "ipython3",
   "version": "3.12.2"
  }
 },
 "nbformat": 4,
 "nbformat_minor": 2
}
