{
 "cells": [
  {
   "cell_type": "markdown",
   "metadata": {},
   "source": [
    "#### While \n",
    "    Para obter top 3° mais vendido"
   ]
  },
  {
   "cell_type": "code",
   "execution_count": 20,
   "metadata": {},
   "outputs": [
    {
     "name": "stdout",
     "output_type": "stream",
     "text": [
      "Top 3°: [14000, 10000, 7000]\n",
      "Rebaixamento: [2500, 800]\n"
     ]
    }
   ],
   "source": [
    "produtos = [\"iphone\", \"ipad\", \"airpod\", \"macbook\", \"celular\"]\n",
    "precos = [7000, 10000, 2500, 14000, 800]\n",
    "rank = []\n",
    "cont = 0\n",
    "\n",
    "while cont < 3:\n",
    "    maior = 0\n",
    "    for preco in precos:\n",
    "        if preco > maior:\n",
    "            maior = preco\n",
    "    rank.append(maior)\n",
    "    precos.remove(maior)\n",
    "    cont += 1\n",
    "\n",
    "print(f'Top 3°: {rank}')\n",
    "print(f'Rebaixamento: {precos}')\n",
    "\n"
   ]
  },
  {
   "cell_type": "markdown",
   "metadata": {},
   "source": [
    "#### - Estrutura While"
   ]
  },
  {
   "cell_type": "code",
   "execution_count": null,
   "metadata": {},
   "outputs": [],
   "source": [
    "senha = 'cascadebala'\n",
    "login = ''\n",
    "cont = 0\n",
    "conteiner = []\n",
    "\n",
    "while senha != login:\n",
    "    cont += 1\n",
    "    conteiner.append(cont)\n",
    "    print(conteiner)"
   ]
  },
  {
   "cell_type": "markdown",
   "metadata": {},
   "source": [
    "#### - Estrutura While : Caso vazio parar"
   ]
  },
  {
   "cell_type": "code",
   "execution_count": 25,
   "metadata": {},
   "outputs": [
    {
     "name": "stdout",
     "output_type": "stream",
     "text": [
      "Parou\n"
     ]
    }
   ],
   "source": [
    "nome = ''\n",
    "\n",
    "while True:\n",
    "    if not nome:\n",
    "        print('Parou')\n",
    "        break\n",
    "\n",
    "    print('Hello')"
   ]
  }
 ],
 "metadata": {
  "kernelspec": {
   "display_name": "Python 3",
   "language": "python",
   "name": "python3"
  },
  "language_info": {
   "codemirror_mode": {
    "name": "ipython",
    "version": 3
   },
   "file_extension": ".py",
   "mimetype": "text/x-python",
   "name": "python",
   "nbconvert_exporter": "python",
   "pygments_lexer": "ipython3",
   "version": "3.12.2"
  }
 },
 "nbformat": 4,
 "nbformat_minor": 2
}
