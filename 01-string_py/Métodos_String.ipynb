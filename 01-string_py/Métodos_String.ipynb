{
 "cells": [
  {
   "cell_type": "markdown",
   "metadata": {},
   "source": [
    "#### - capitalize()\n",
    "    Coloca a 1ª letra Maiúscula"
   ]
  },
  {
   "cell_type": "code",
   "execution_count": 2,
   "metadata": {},
   "outputs": [
    {
     "name": "stdout",
     "output_type": "stream",
     "text": [
      "Walex lima barbosa\n",
      "Walex barbosa\n",
      "Rafael barbosa\n"
     ]
    }
   ],
   "source": [
    "texto = 'walex lima barbosa'\n",
    "texto_1M = texto.capitalize()\n",
    "print(texto_1M)\n",
    "\n",
    "##List\n",
    "bd_nomes = ['walex barbosa', 'rafael barbosa']\n",
    "\n",
    "for bd in bd_nomes:\n",
    "    print(bd.capitalize())\n",
    "\n"
   ]
  },
  {
   "cell_type": "markdown",
   "metadata": {},
   "source": [
    "#### - title()   \n",
    "    Coloca a 1ª letra de cada palavra em maiúscula"
   ]
  },
  {
   "cell_type": "code",
   "execution_count": 3,
   "metadata": {},
   "outputs": [
    {
     "name": "stdout",
     "output_type": "stream",
     "text": [
      "Walex Lima Barbosa\n",
      "Walex Barbosa\n",
      "Rafael Barbosa\n"
     ]
    }
   ],
   "source": [
    "texto = 'walex lima barbosa'\n",
    "texto_1M = texto.title()\n",
    "print(texto_1M)\n",
    "\n",
    "##List\n",
    "bd_nomes = ['walex barbosa', 'rafael barbosa']\n",
    "\n",
    "for bd in bd_nomes:\n",
    "    print(bd.title())"
   ]
  },
  {
   "cell_type": "markdown",
   "metadata": {},
   "source": [
    "#### - upper()\t\n",
    "    Coloca o texto todo em letra maiúscula"
   ]
  },
  {
   "cell_type": "code",
   "execution_count": 4,
   "metadata": {},
   "outputs": [
    {
     "name": "stdout",
     "output_type": "stream",
     "text": [
      "WALEX LIMA BARBOSA\n",
      "WALEX BARBOSA\n",
      "RAFAEL BARBOSA\n"
     ]
    }
   ],
   "source": [
    "texto = 'walex lima barbosa'\n",
    "texto_1M = texto.upper()\n",
    "print(texto_1M)\n",
    "\n",
    "#List\n",
    "bd_nomes = ['walex barbosa', 'rafael barbosa']\n",
    "\n",
    "for bd in bd_nomes:\n",
    "    print(bd.upper())"
   ]
  },
  {
   "cell_type": "markdown",
   "metadata": {},
   "source": [
    "#### - casefold()\n",
    "    Transforma todas as letras em minúsculas (existe lower() mas o casefold é melhor normalmente)"
   ]
  },
  {
   "cell_type": "code",
   "execution_count": 10,
   "metadata": {},
   "outputs": [
    {
     "name": "stdout",
     "output_type": "stream",
     "text": [
      "walex lima barbosa\n",
      "---------\n",
      "walex lima barbosa\n",
      "rafael barbosa\n",
      "---------\n",
      "walex lima barbosa\n",
      "rafael barbosa\n"
     ]
    }
   ],
   "source": [
    "texto = 'WALEX LIMA BARBOSA'\n",
    "texto_M = texto.casefold()\n",
    "print(texto_M)\n",
    "print('---------')\n",
    "\n",
    "#List\n",
    "bd_nomes = ['WALEX LIMA BARBOSA', 'RAFAEL BARBOSA']\n",
    "\n",
    "for bd in bd_nomes:\n",
    "    print(bd.casefold())\n",
    "print('---------')\n",
    "\n",
    "    #List\n",
    "bd_nomes = ['WALEX LIMA BARBOSA', 'RAFAEL BARBOSA']\n",
    "\n",
    "for bd in bd_nomes:\n",
    "    print(bd.lower())"
   ]
  },
  {
   "cell_type": "markdown",
   "metadata": {},
   "source": [
    "#### - count()\t\n",
    "    Quantidade de vezes que um valor aparece na string"
   ]
  },
  {
   "cell_type": "code",
   "execution_count": 19,
   "metadata": {},
   "outputs": [
    {
     "name": "stdout",
     "output_type": "stream",
     "text": [
      "2\n",
      "4\n"
     ]
    }
   ],
   "source": [
    "email = 'walex@gmail.com.br'\n",
    "email_new = email.count('.')\n",
    "print(email_new)\n",
    "\n",
    "#List\n",
    "bd_nomes = ['walex barbosa', 'rafael barbosa', 'rafael barbosa', 'rafael barbosa']\n",
    "\n",
    "cont = 0\n",
    "\n",
    "for bd in bd_nomes:\n",
    "    bd.count('barbosa')\n",
    "    cont += 1\n",
    "print(cont)\n"
   ]
  },
  {
   "cell_type": "markdown",
   "metadata": {},
   "source": [
    "#### find()     \n",
    "    Procura um texto dentro de outro texto e dá como resposta a 1° posição do texto encontrado"
   ]
  },
  {
   "cell_type": "code",
   "execution_count": 50,
   "metadata": {},
   "outputs": [
    {
     "name": "stdout",
     "output_type": "stream",
     "text": [
      "5\n",
      "'barbosa' encontrado em 'rafael barbosa' no índice 7\n",
      "'barbosa' não encontrado em 'Rúbia Tiolio'\n",
      "'barbosa' encontrado em 'walex barbosa' no índice 6\n",
      "'barbosa' encontrado em 'walex barbosa' no índice 6\n"
     ]
    }
   ],
   "source": [
    "email = 'walex@gmail.com.br'\n",
    "email_new = email.find('@gmail.com.br')\n",
    "print(email_new)\n",
    "\n",
    "#List\n",
    "bd_nomes = ['rafael barbosa', 'Rúbia Tiolio', 'walex barbosa', 'walex barbosa']\n",
    "\n",
    "for nome in bd_nomes:\n",
    "    index = nome.find('barbosa')\n",
    "    if index != -1:\n",
    "        print(f\"'barbosa' encontrado em '{nome}' no índice {index}\")\n",
    "    else:\n",
    "        print(f\"'barbosa' não encontrado em '{nome}'\")\n",
    "\n"
   ]
  },
  {
   "cell_type": "markdown",
   "metadata": {},
   "source": [
    "#### - endswith() \n",
    "    Verifica se o texto termina com um valor específico e dá como resposta True ou False"
   ]
  },
  {
   "cell_type": "code",
   "execution_count": 54,
   "metadata": {},
   "outputs": [
    {
     "name": "stdout",
     "output_type": "stream",
     "text": [
      "True\n",
      "['walex@gmail.com.br', 'ester@gmail.com.br']\n"
     ]
    }
   ],
   "source": [
    "email = 'walex@gmail.com.br'\n",
    "email_new = email.endswith('@gmail.com.br')\n",
    "print(email_new)\n",
    "\n",
    "email_array = ['walex@gmail.com.br', 'diocel@hotmail.com', 'ester@gmail.com.br', 'binha@yahoo.com']\n",
    "email_gmail = []\n",
    "\n",
    "for em in email_array:\n",
    "    email_new2 = em.endswith('gmail.com.br')\n",
    "    if email_new2 == True:\n",
    "        email_gmail.append(em)\n",
    "print(email_gmail)"
   ]
  },
  {
   "cell_type": "markdown",
   "metadata": {},
   "source": [
    "#### - isalnum() \n",
    "    Verifica se um texto é todo feito com caracteres alfanuméricos (letras e números) -> letras com acento ou ç são considerados letras para essa função."
   ]
  },
  {
   "cell_type": "code",
   "execution_count": 69,
   "metadata": {},
   "outputs": [
    {
     "name": "stdout",
     "output_type": "stream",
     "text": [
      "False\n",
      "Senha não pode haver espaços!\n"
     ]
    }
   ],
   "source": [
    "texto = 'walexãéç 22'\n",
    "texto_new = texto.isalnum()\n",
    "print(texto_new)\n",
    "\n",
    "senha = 'passinho 123 '\n",
    "\n",
    "if senha.isalnum() == True:\n",
    "    print(senha)\n",
    "else:\n",
    "    print('Senha não pode haver espaços!')"
   ]
  },
  {
   "cell_type": "markdown",
   "metadata": {},
   "source": [
    "#### - isalpha() \n",
    "    Verifica se um texto é todo feito de letras."
   ]
  },
  {
   "cell_type": "code",
   "execution_count": 89,
   "metadata": {},
   "outputs": [
    {
     "name": "stdout",
     "output_type": "stream",
     "text": [
      "False\n",
      "Senha não pode haver espaços e nem letras!\n"
     ]
    }
   ],
   "source": [
    "texto = 'walexlimabarbos2a'\n",
    "texto_new = texto.isalpha()\n",
    "print(texto_new)\n",
    "\n",
    "senha1 = \"walex \"\n",
    "\n",
    "if senha1.isalpha() == True:\n",
    "    print(senha1)\n",
    "else:\n",
    "    print('Senha não pode haver espaços e nem letras!')\n",
    "\n",
    "# senha2 = \"225225a\"\n",
    "\n",
    "# if senha2.isalnum() == True:\n",
    "#     print(senha2)\n",
    "# else:\n",
    "#     print('Senha não pode haver espaços e nem letras!')"
   ]
  },
  {
   "cell_type": "markdown",
   "metadata": {},
   "source": [
    "#### - isnumeric()\t\n",
    "    Verifica se um texto é todo feito por números."
   ]
  },
  {
   "cell_type": "code",
   "execution_count": 48,
   "metadata": {},
   "outputs": [
    {
     "name": "stdout",
     "output_type": "stream",
     "text": [
      "True\n"
     ]
    }
   ],
   "source": [
    "texto = '121212'\n",
    "texto_new = texto.isnumeric()\n",
    "print(texto_new)"
   ]
  },
  {
   "cell_type": "markdown",
   "metadata": {},
   "source": [
    "#### - startswith() \n",
    "    Verifica se a string começa com determinado texto"
   ]
  },
  {
   "cell_type": "code",
   "execution_count": 101,
   "metadata": {},
   "outputs": [
    {
     "name": "stdout",
     "output_type": "stream",
     "text": [
      "True\n",
      "walex@gmail.com.br\n",
      "False\n",
      "False\n",
      "False\n"
     ]
    }
   ],
   "source": [
    "texto = 'ABCD1252'\n",
    "texto_new = texto.startswith('ABCD12')\n",
    "print(texto_new)\n",
    "\n",
    "email = ['walex@gmail.com.br', 'diocel@hotmail.com', 'ester@gmail.com.br', 'binha@yahoo.com']\n",
    "\n",
    "for em in email:\n",
    "    if em.startswith('walex'):\n",
    "        print(em)\n",
    "    else:\n",
    "        print('False')"
   ]
  },
  {
   "cell_type": "markdown",
   "metadata": {},
   "source": [
    "#### - replace() \n",
    "    Substitui um texto por um outro texto em uma string.\n"
   ]
  },
  {
   "cell_type": "code",
   "execution_count": 57,
   "metadata": {},
   "outputs": [
    {
     "name": "stdout",
     "output_type": "stream",
     "text": [
      "1000,00\n"
     ]
    }
   ],
   "source": [
    "num = '1000.00'\n",
    "num_new = num.replace('.', ',')\n",
    "print(num_new)"
   ]
  },
  {
   "cell_type": "markdown",
   "metadata": {},
   "source": [
    "####    - split()\t\n",
    "    Separa uma string de acordo com um delimitador em vários textos diferentes."
   ]
  },
  {
   "cell_type": "code",
   "execution_count": 60,
   "metadata": {},
   "outputs": [
    {
     "name": "stdout",
     "output_type": "stream",
     "text": [
      "['walex', 'barbosa', 'lima', '2024']\n"
     ]
    }
   ],
   "source": [
    "texto = 'walex;barbosa;lima;2024'\n",
    "texto_new = texto.split(';')\n",
    "print(texto_new)"
   ]
  },
  {
   "cell_type": "markdown",
   "metadata": {},
   "source": [
    "#### - strip()\t\n",
    "    Retira caracteres indesejados dos textos. Por padrão, retira espaços \"extras\" no início e no final"
   ]
  },
  {
   "cell_type": "code",
   "execution_count": 61,
   "metadata": {},
   "outputs": [
    {
     "name": "stdout",
     "output_type": "stream",
     "text": [
      "walex barbosa\n"
     ]
    }
   ],
   "source": [
    "texto = '  walex barbosa  '\n",
    "texto_new = texto.strip()\n",
    "print(texto_new)"
   ]
  },
  {
   "cell_type": "markdown",
   "metadata": {},
   "source": [
    "#### - re - biblioteca\n",
    "    Exclui todos os espaços dentro e fora"
   ]
  },
  {
   "cell_type": "code",
   "execution_count": 73,
   "metadata": {},
   "outputs": [
    {
     "name": "stdout",
     "output_type": "stream",
     "text": [
      "walex lima barbosa \n"
     ]
    }
   ],
   "source": [
    "import re\n",
    "\n",
    "texto = \"walex  lima     barbosa \"\n",
    "texto_sem_espacos_extras = re.sub(r\"\\s+\", \" \", texto)\n",
    "print(texto_sem_espacos_extras)"
   ]
  },
  {
   "cell_type": "markdown",
   "metadata": {},
   "source": [
    "#### join()\n",
    "    \"####\".join() => Ele juntar strings\n",
    "    "
   ]
  },
  {
   "cell_type": "code",
   "execution_count": 13,
   "metadata": {},
   "outputs": [
    {
     "name": "stdout",
     "output_type": "stream",
     "text": [
      "walex rafael\n"
     ]
    }
   ],
   "source": [
    "nome = ['walex']\n",
    "sobrenome = ['barbosa']\n",
    "\n",
    "# Concatenando as listas e depois juntando em uma única string\n",
    "nome_e_idade = nome + idade  # Combina as duas listas\n",
    "nome_modificado = ' '.join(nome_e_idade)  # Junta os elementos da lista resultante em uma única string\n",
    "\n",
    "print(nome_modificado)\n",
    "\n"
   ]
  },
  {
   "cell_type": "markdown",
   "metadata": {},
   "source": [
    "#### - Formatação números"
   ]
  },
  {
   "cell_type": "code",
   "execution_count": 70,
   "metadata": {},
   "outputs": [
    {
     "name": "stdout",
     "output_type": "stream",
     "text": [
      "Faturamento foi 270.00 e lucro foi -230.000000\n",
      "Margem de lucro foi de 61.54%\n",
      "Faturamento foi R$27,000.00 e lucro foi R$22,000.00\n",
      "R$22.000,00\n",
      "Imposto sobre o preço é de 15.76\n"
     ]
    }
   ],
   "source": [
    "## - Formato com casas Decimais fixas\n",
    "custo = 500\n",
    "faturamento = 270\n",
    "lucro = faturamento - custo\n",
    "print('Faturamento foi {:.2f} e lucro foi {:2f}'.format(faturamento, lucro))\n",
    "\n",
    "## - Formato com casas porcentagem\n",
    "custo = 500\n",
    "faturamento = 1300\n",
    "lucro = faturamento - custo\n",
    "margem = lucro / faturamento\n",
    "print('Margem de lucro foi de {:.2%}'.format(margem))\n",
    "\n",
    "## - Formato Moeda -> Combinação de Formatos\n",
    "custo = 5000\n",
    "faturamento = 27000\n",
    "lucro = faturamento - custo\n",
    "print('Faturamento foi R${:,.2f} e lucro foi R${:,.2f}'.format(faturamento, lucro))\n",
    "\n",
    "#transformando no formato brasileiro\n",
    "lucro_texto = f'R${lucro:_.2f}'\n",
    "print(lucro_texto.replace('.', ',').replace('_', '.'))\n",
    "\n",
    "## - Função round() para arredondar números, caso seja necessário\n",
    "imposto = 0.15758\n",
    "preco = 100\n",
    "valor_imposto = round(preco * imposto, 2)\n",
    "print('Imposto sobre o preço é de {}'.format(valor_imposto))"
   ]
  }
 ],
 "metadata": {
  "kernelspec": {
   "display_name": "Python 3",
   "language": "python",
   "name": "python3"
  },
  "language_info": {
   "codemirror_mode": {
    "name": "ipython",
    "version": 3
   },
   "file_extension": ".py",
   "mimetype": "text/x-python",
   "name": "python",
   "nbconvert_exporter": "python",
   "pygments_lexer": "ipython3",
   "version": "3.12.2"
  }
 },
 "nbformat": 4,
 "nbformat_minor": 2
}
